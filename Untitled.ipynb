{
 "cells": [
  {
   "cell_type": "code",
   "execution_count": 1,
   "id": "02ee2546-db7c-4f5c-985e-8a8e4bb53aaa",
   "metadata": {},
   "outputs": [],
   "source": [
    "import pandas as pd\n",
    "import numpy as np\n",
    "import csv"
   ]
  },
  {
   "cell_type": "code",
   "execution_count": 2,
   "id": "be90dca7-d8e3-4ebf-a49a-2dbf8bbdc69e",
   "metadata": {},
   "outputs": [],
   "source": [
    "model_df = pd.DataFrame(columns=['Local Government Area'])"
   ]
  },
  {
   "cell_type": "code",
   "execution_count": 3,
   "id": "4a6156ba-ef85-4ee7-9a5d-ae3c93aafe4c",
   "metadata": {},
   "outputs": [
    {
     "name": "stdout",
     "output_type": "stream",
     "text": [
      "  Local Government Area    KM2  Population  Population density per KM2  \\\n",
      "0                 Agege   17.0     1555834                       91520   \n",
      "1      Ajeromi-Ifelodun   13.9     2161609                      155511   \n",
      "2              Alimosho  137.8     3082900                       22372   \n",
      "3          Amuwo Odofin  179.1      790627                        4414   \n",
      "4                 Apapa   38.5      786730                       20435   \n",
      "\n",
      "   HousholdCount  Household population density per KM2  \\\n",
      "0          65000                           3823.529412   \n",
      "1          94000                           6762.589928   \n",
      "2         520000                           3773.584906   \n",
      "3         165000                            921.273032   \n",
      "4          39000                           1012.987013   \n",
      "\n",
      "   Annual Fuel Consumed in Litres  \n",
      "0                        24530000  \n",
      "1                        49904000  \n",
      "2                       669307000  \n",
      "3                       339664000  \n",
      "4                       165208000  \n"
     ]
    }
   ],
   "source": [
    "lga_additional_df= pd.read_csv(\"datasets/lga_data_df.csv\")\n",
    "\n",
    "lga_additional_df = pd.DataFrame(lga_additional_df)\n",
    "\n",
    "print(lga_additional_df.head())"
   ]
  },
  {
   "cell_type": "markdown",
   "id": "0a903612-6528-4a72-8dc3-48980eeb6e13",
   "metadata": {},
   "source": [
    ", \n",
    "                                 'Employment_rate', \n",
    "                                 'Industrial_activity', \n",
    "                                 'Fuel_expenditure', \n",
    "                                 'Energy_spend_ratio', \n",
    "                                 'Population_density', \n",
    "                                 'Household_count', \n",
    "                                 'Building_type', \n",
    "                                 'Grid_supply_reliability', \n",
    "                                 'Road_accessibility', \n",
    "                                 'Safety', \n",
    "                                 'Solar_panel_usage',\n",
    "                                 'Solar_panel_Adoption',\n",
    "                                 'Environmental_impact'"
   ]
  },
  {
   "cell_type": "code",
   "execution_count": 4,
   "id": "de08ff9e-2a1f-40fc-8b6d-68d842d2eae7",
   "metadata": {},
   "outputs": [
    {
     "name": "stdout",
     "output_type": "stream",
     "text": [
      "            Timestamp  Participant_ID        GPS Location  \\\n",
      "0 2023-10-14 17:27:53             NaN  6.604490, 3.295428   \n",
      "1 2023-10-13 13:41:58             NaN  6.485117, 3.588230   \n",
      "2 2023-10-15 12:47:43             NaN  6.538454, 3.371616   \n",
      "3 2023-10-15 15:51:35             NaN  6.574953, 3.284678   \n",
      "4 2023-10-14 15:41:51             NaN  6.523978, 3.370611   \n",
      "\n",
      "  Local Government Area Local Community Development Area  \\\n",
      "0              Alimosho               Akowonjo / Ilupeju   \n",
      "1               Eti Osa                    Addo / Okeira   \n",
      "2                SOMOLU                       Ijebu Tedo   \n",
      "3              Alimosho                       Egbe-Liasu   \n",
      "4                SOMOLU                  Igbobi / Fadeyi   \n",
      "\n",
      "                                     House Address Preferred Language  \\\n",
      "0                         19 ISHOLA MAKINDE STREET             Yoruba   \n",
      "1                  9 Magbageola street, okeira nla             Yoruba   \n",
      "2  21 Olorunsogo St, Somolu 102216, Lagos, Nigeria             Yoruba   \n",
      "3                                 37 Pipeline road             Yoruba   \n",
      "4                                      48, Shyllon             Yoruba   \n",
      "\n",
      "   Consent_page  Consent  \\\n",
      "0           NaN      NaN   \n",
      "1           NaN      NaN   \n",
      "2           NaN      NaN   \n",
      "3           NaN      NaN   \n",
      "4           NaN      NaN   \n",
      "\n",
      "   Hello my name is {{NAME}} and I am a representative of LASG/SEforALL/ETO/Vista. We are conducting a study to understand the usage patterns and quantities of diesel/petrol generators in Lagos state.  \\\n",
      "0                                                NaN                                                                                                                                                       \n",
      "1                                                NaN                                                                                                                                                       \n",
      "2                                                NaN                                                                                                                                                       \n",
      "3                                                NaN                                                                                                                                                       \n",
      "4                                                NaN                                                                                                                                                       \n",
      "\n",
      "   ...  total_gen_hours_per_month  monthly_fuel_spend  \\\n",
      "0  ...                     47.630             12990.0   \n",
      "1  ...                    318.255             90000.0   \n",
      "2  ...                        NaN                 0.0   \n",
      "3  ...                     38.970              9000.0   \n",
      "4  ...                        NaN                 0.0   \n",
      "\n",
      "   monthly_fuel_consumption  monthly_fuel_conversion  monthly_gen_maintenance  \\\n",
      "0                     21.65                     4.33                    495.0   \n",
      "1                    150.00                    30.00                     83.0   \n",
      "2                       NaN                      NaN                      0.0   \n",
      "3                     15.00                     1.00                   2310.0   \n",
      "4                       NaN                      NaN                      0.0   \n",
      "\n",
      "   monthly_gen_maintenance_conversion  total_monthly_gen_spend  \\\n",
      "0                               0.330                  13485.0   \n",
      "1                               0.083                  90083.0   \n",
      "2                                 NaN                      0.0   \n",
      "3                               0.330                  11310.0   \n",
      "4                                 NaN                      0.0   \n",
      "\n",
      "  daily_solar_use  monthly_solar_willingness_to_pay  \\\n",
      "0             NaN                               NaN   \n",
      "1             NaN                               NaN   \n",
      "2             NaN                               NaN   \n",
      "3             NaN                               NaN   \n",
      "4             NaN                               NaN   \n",
      "\n",
      "   monthly_solar_willingness_to_pay_freq_conversion  \n",
      "0                                               NaN  \n",
      "1                                               NaN  \n",
      "2                                               NaN  \n",
      "3                                               NaN  \n",
      "4                                               NaN  \n",
      "\n",
      "[5 rows x 226 columns]\n"
     ]
    }
   ],
   "source": [
    "residential_data = pd.read_excel(\"residential_dashboard_data.xlsx\")\n",
    "\n",
    "residential_df = residential_data[residential_data[\"Do you agree to participate in this study?\"] == True]\n",
    "\n",
    "residential_df = pd.DataFrame(residential_df)\n",
    "\n",
    "print(residential_df.head())"
   ]
  },
  {
   "cell_type": "markdown",
   "id": "27ac59e4-de8e-4bb8-97c4-6ecdd299fe74",
   "metadata": {},
   "source": [
    "## ECONOMIC INDICATORS"
   ]
  },
  {
   "cell_type": "markdown",
   "id": "f3c31083-22c1-41d1-bcbb-67d9f6e168f9",
   "metadata": {},
   "source": [
    "### 1. HOUSEHOLD INCOME"
   ]
  },
  {
   "cell_type": "code",
   "execution_count": 5,
   "id": "f0f89b01-bed7-4aa2-970e-e734a3d47703",
   "metadata": {},
   "outputs": [
    {
     "name": "stdout",
     "output_type": "stream",
     "text": [
      "0    175000.0\n",
      "1    375000.0\n",
      "2    375000.0\n",
      "3     25000.0\n",
      "4    175000.0\n",
      "Name: household_income, dtype: float64\n"
     ]
    }
   ],
   "source": [
    "residential_df['household_income'] = ''\n",
    "\n",
    "residential_df['household_income'] = residential_df['total_monthly_income']\n",
    "\n",
    "print(residential_df['household_income'].head())"
   ]
  },
  {
   "cell_type": "markdown",
   "id": "646522f7-83db-4079-865f-5a4c43e4a309",
   "metadata": {},
   "source": [
    "#### MEDIAN HOUSEHOLD INCOME PER LOCAL GOVERNMENT"
   ]
  },
  {
   "cell_type": "code",
   "execution_count": 6,
   "id": "99b0e44f-1209-4cd0-86d4-504b99cc7c64",
   "metadata": {},
   "outputs": [
    {
     "name": "stdout",
     "output_type": "stream",
     "text": [
      "                       household_income\n",
      "Local Government Area                  \n",
      "Agege                           75000.0\n",
      "Ajeromi-Ifelodun               175000.0\n",
      "Alimosho                       175000.0\n",
      "Amuwo Odofin                   175000.0\n",
      "Apapa                           75000.0\n"
     ]
    }
   ],
   "source": [
    "# Filter out 0 and NA values\n",
    "filtered_household_income = residential_df[(residential_df['household_income'] != 0) & (residential_df['household_income'].notna())]\n",
    "\n",
    "# Group by state and calculate the median\n",
    "median_household_income_df = filtered_household_income.groupby('Local Government Area')['household_income'].median()\n",
    "median_household_income_df = pd.DataFrame(median_household_income_df)\n",
    "print(median_household_income_df.head())"
   ]
  },
  {
   "cell_type": "code",
   "execution_count": 7,
   "id": "66cbb7b0-9605-4bda-86a3-f1e0d27f236a",
   "metadata": {},
   "outputs": [
    {
     "data": {
      "text/html": [
       "<div>\n",
       "<style scoped>\n",
       "    .dataframe tbody tr th:only-of-type {\n",
       "        vertical-align: middle;\n",
       "    }\n",
       "\n",
       "    .dataframe tbody tr th {\n",
       "        vertical-align: top;\n",
       "    }\n",
       "\n",
       "    .dataframe thead th {\n",
       "        text-align: right;\n",
       "    }\n",
       "</style>\n",
       "<table border=\"1\" class=\"dataframe\">\n",
       "  <thead>\n",
       "    <tr style=\"text-align: right;\">\n",
       "      <th></th>\n",
       "      <th>Median_household_income</th>\n",
       "    </tr>\n",
       "    <tr>\n",
       "      <th>Local Government Area</th>\n",
       "      <th></th>\n",
       "    </tr>\n",
       "  </thead>\n",
       "  <tbody>\n",
       "    <tr>\n",
       "      <th>Agege</th>\n",
       "      <td>75000.0</td>\n",
       "    </tr>\n",
       "    <tr>\n",
       "      <th>Ajeromi-Ifelodun</th>\n",
       "      <td>175000.0</td>\n",
       "    </tr>\n",
       "    <tr>\n",
       "      <th>Alimosho</th>\n",
       "      <td>175000.0</td>\n",
       "    </tr>\n",
       "    <tr>\n",
       "      <th>Amuwo Odofin</th>\n",
       "      <td>175000.0</td>\n",
       "    </tr>\n",
       "    <tr>\n",
       "      <th>Apapa</th>\n",
       "      <td>75000.0</td>\n",
       "    </tr>\n",
       "  </tbody>\n",
       "</table>\n",
       "</div>"
      ],
      "text/plain": [
       "                       Median_household_income\n",
       "Local Government Area                         \n",
       "Agege                                  75000.0\n",
       "Ajeromi-Ifelodun                      175000.0\n",
       "Alimosho                              175000.0\n",
       "Amuwo Odofin                          175000.0\n",
       "Apapa                                  75000.0"
      ]
     },
     "execution_count": 7,
     "metadata": {},
     "output_type": "execute_result"
    }
   ],
   "source": [
    "median_household_income_df.rename(columns={'Local Government Area': 'Local Government Area', 'household_income': 'Median_household_income'}, inplace=True)\n",
    "median_household_income_df.head()"
   ]
  },
  {
   "cell_type": "code",
   "execution_count": 8,
   "id": "fe4c8372-6a49-4dc8-bd79-b6ca8c362c52",
   "metadata": {},
   "outputs": [],
   "source": [
    "# Merge with model_df\n",
    "\n",
    "model_df = model_df.merge(median_household_income_df, on='Local Government Area', how='outer')"
   ]
  },
  {
   "cell_type": "code",
   "execution_count": 9,
   "id": "334a95d7-c7c1-41ee-b027-4041c5eaa8cd",
   "metadata": {},
   "outputs": [
    {
     "data": {
      "text/html": [
       "<div>\n",
       "<style scoped>\n",
       "    .dataframe tbody tr th:only-of-type {\n",
       "        vertical-align: middle;\n",
       "    }\n",
       "\n",
       "    .dataframe tbody tr th {\n",
       "        vertical-align: top;\n",
       "    }\n",
       "\n",
       "    .dataframe thead th {\n",
       "        text-align: right;\n",
       "    }\n",
       "</style>\n",
       "<table border=\"1\" class=\"dataframe\">\n",
       "  <thead>\n",
       "    <tr style=\"text-align: right;\">\n",
       "      <th></th>\n",
       "      <th>Local Government Area</th>\n",
       "      <th>Median_household_income</th>\n",
       "    </tr>\n",
       "  </thead>\n",
       "  <tbody>\n",
       "    <tr>\n",
       "      <th>0</th>\n",
       "      <td>Agege</td>\n",
       "      <td>75000.0</td>\n",
       "    </tr>\n",
       "    <tr>\n",
       "      <th>1</th>\n",
       "      <td>Ajeromi-Ifelodun</td>\n",
       "      <td>175000.0</td>\n",
       "    </tr>\n",
       "    <tr>\n",
       "      <th>2</th>\n",
       "      <td>Alimosho</td>\n",
       "      <td>175000.0</td>\n",
       "    </tr>\n",
       "    <tr>\n",
       "      <th>3</th>\n",
       "      <td>Amuwo Odofin</td>\n",
       "      <td>175000.0</td>\n",
       "    </tr>\n",
       "    <tr>\n",
       "      <th>4</th>\n",
       "      <td>Apapa</td>\n",
       "      <td>75000.0</td>\n",
       "    </tr>\n",
       "  </tbody>\n",
       "</table>\n",
       "</div>"
      ],
      "text/plain": [
       "  Local Government Area  Median_household_income\n",
       "0                 Agege                  75000.0\n",
       "1      Ajeromi-Ifelodun                 175000.0\n",
       "2              Alimosho                 175000.0\n",
       "3          Amuwo Odofin                 175000.0\n",
       "4                 Apapa                  75000.0"
      ]
     },
     "execution_count": 9,
     "metadata": {},
     "output_type": "execute_result"
    }
   ],
   "source": [
    "model_df.head()"
   ]
  },
  {
   "cell_type": "markdown",
   "id": "2f936302-da8b-4603-a640-2aeb7af009e7",
   "metadata": {},
   "source": [
    "### 2. Employment Rate"
   ]
  },
  {
   "cell_type": "code",
   "execution_count": 10,
   "id": "b7d08426-24ab-4b6b-b1f4-9f343ab21d50",
   "metadata": {},
   "outputs": [
    {
     "data": {
      "text/plain": [
       "array(['Employment (Contract)', 'Self-employment', 'Employment',\n",
       "       'Dont Know', 'Pension and retirement',\n",
       "       'Government assistant programme', 'Others, please specify', nan],\n",
       "      dtype=object)"
      ]
     },
     "execution_count": 10,
     "metadata": {},
     "output_type": "execute_result"
    }
   ],
   "source": [
    "residential_df[\"Primary source of income of the household?\"].unique()"
   ]
  },
  {
   "cell_type": "code",
   "execution_count": 11,
   "id": "f28a8485-15da-44ab-8b0b-0749cc66fb32",
   "metadata": {},
   "outputs": [],
   "source": [
    "residential_df['Employment_Status'] = ''"
   ]
  },
  {
   "cell_type": "code",
   "execution_count": 12,
   "id": "30296f8b-2f1f-4568-8364-43222272109d",
   "metadata": {},
   "outputs": [
    {
     "name": "stdout",
     "output_type": "stream",
     "text": [
      "0    Employed\n",
      "1    Employed\n",
      "2    Employed\n",
      "3    Employed\n",
      "4    Employed\n",
      "Name: Employment_Status, dtype: object\n"
     ]
    }
   ],
   "source": [
    "# Dictionary for renaming values\n",
    "employment_rename_dict = {'Employment (Contract)': 'Employed', 'Self-employment': 'Employed', 'Employment': 'Employed',\n",
    "              'Dont Know': 'Unemployed', 'Pension and retirement': 'Unemployed', 'Government assistant programme': 'Unemployed',\n",
    "              'Others, please specify': 'Employed', '': 'UnEmployed'}\n",
    "\n",
    "# Replace values in the 'City' column\n",
    "residential_df['Employment_Status'] = residential_df['Primary source of income of the household?'].replace(employment_rename_dict)\n",
    "\n",
    "print(residential_df['Employment_Status'].head())"
   ]
  },
  {
   "cell_type": "code",
   "execution_count": 13,
   "id": "4ac297ea-9313-438d-8b56-fd61b4642bee",
   "metadata": {},
   "outputs": [
    {
     "name": "stdout",
     "output_type": "stream",
     "text": [
      "   Local Government Area  Employment_rate\n",
      "0                  Agege        97.474747\n",
      "1       Ajeromi-Ifelodun        93.309859\n",
      "2               Alimosho        83.102144\n",
      "3           Amuwo Odofin        93.137255\n",
      "4                  Apapa        98.550725\n",
      "5                Badagry        89.629630\n",
      "6                    Epe        83.098592\n",
      "7                Eti Osa        95.161290\n",
      "8            Ibeju Lekki       100.000000\n",
      "9            Ifako-Ijaye        91.929825\n",
      "10                 Ikeja        96.837945\n",
      "11               Ikorodu        96.515679\n",
      "12                Kosofe        95.250000\n",
      "13        Lagos Mainland        95.416667\n",
      "14          Lagos-Island        97.134670\n",
      "15                Mushin        93.076923\n",
      "16                   Ojo        90.000000\n",
      "17          Oshodi-Isolo        96.296296\n",
      "18                SOMOLU        96.733668\n",
      "19              Surulere        94.905660\n"
     ]
    }
   ],
   "source": [
    "# Group by LGA and calculate the number of employed and total count\n",
    "Employment_rate_df = ''\n",
    "Employment_rate_df = residential_df.groupby(['Local Government Area', 'Employment_Status']).size().unstack(fill_value=0)\n",
    "Employment_rate_df['total'] = Employment_rate_df.sum(axis=1)\n",
    "Employment_rate_df['employment_rate'] = (Employment_rate_df['Employed'] / Employment_rate_df['total']) * 100\n",
    "\n",
    "\n",
    "# Create the final DataFrame with desired columns\n",
    "Employment_rate_per = Employment_rate_df.reset_index()[['Local Government Area', 'employment_rate']]\n",
    "Employment_rate_per.columns = ['Local Government Area', 'Employment_rate']\n",
    "\n",
    "# Print the resulting DataFrame\n",
    "print(Employment_rate_per)"
   ]
  },
  {
   "cell_type": "code",
   "execution_count": 14,
   "id": "4a8ea224-2ddf-44c9-ba97-7d66d948e49b",
   "metadata": {},
   "outputs": [
    {
     "name": "stdout",
     "output_type": "stream",
     "text": [
      "  Local Government Area  Median_household_income  Employment_rate\n",
      "0                 Agege                  75000.0        97.474747\n",
      "1      Ajeromi-Ifelodun                 175000.0        93.309859\n",
      "2              Alimosho                 175000.0        83.102144\n",
      "3          Amuwo Odofin                 175000.0        93.137255\n",
      "4                 Apapa                  75000.0        98.550725\n"
     ]
    }
   ],
   "source": [
    "# Merge with model_df\n",
    "\n",
    "model_df = model_df.merge(Employment_rate_per, on='Local Government Area', how='outer')\n",
    "model_df.shape\n",
    "print(model_df.head())"
   ]
  },
  {
   "cell_type": "markdown",
   "id": "e2e7a18e-4534-4243-93be-ea10ea26aa03",
   "metadata": {},
   "source": [
    "### 3. Industrial Activities"
   ]
  },
  {
   "cell_type": "code",
   "execution_count": 15,
   "id": "e39d0c0d-27cd-44b8-9634-55c8b9076ce0",
   "metadata": {},
   "outputs": [
    {
     "data": {
      "text/plain": [
       "array([ True, False])"
      ]
     },
     "execution_count": 15,
     "metadata": {},
     "output_type": "execute_result"
    }
   ],
   "source": [
    "residential_df[\"Do you have a business you run in your household?\"].unique()"
   ]
  },
  {
   "cell_type": "code",
   "execution_count": 16,
   "id": "7ac26b51-9887-438b-a552-70321c609ef7",
   "metadata": {},
   "outputs": [],
   "source": [
    "residential_df['industrial_activity_status'] = ''"
   ]
  },
  {
   "cell_type": "code",
   "execution_count": 17,
   "id": "c1e3b6b9-7a92-4c1a-80f3-377f4869a154",
   "metadata": {},
   "outputs": [
    {
     "name": "stdout",
     "output_type": "stream",
     "text": [
      "0     True\n",
      "1     True\n",
      "2    False\n",
      "3    False\n",
      "4    False\n",
      "Name: industrial_activity_status, dtype: bool\n"
     ]
    }
   ],
   "source": [
    "# Dictionary for renaming values\n",
    "ind_act_rename_dict = {True: True, False: False}\n",
    "\n",
    "residential_df['industrial_activity_status'] = residential_df['Do you have a business you run in your household?'].replace(ind_act_rename_dict)\n",
    "\n",
    "print(residential_df['industrial_activity_status'].head())"
   ]
  },
  {
   "cell_type": "code",
   "execution_count": 18,
   "id": "76c96778-9867-4dea-b6ba-b6901188706e",
   "metadata": {},
   "outputs": [
    {
     "name": "stdout",
     "output_type": "stream",
     "text": [
      "   Local Government Area  Industrial_activity\n",
      "0                  Agege            18.625277\n",
      "1       Ajeromi-Ifelodun            12.666667\n",
      "2               Alimosho            23.427867\n",
      "3           Amuwo Odofin            24.311927\n",
      "4                  Apapa            28.095238\n",
      "5                Badagry             7.857143\n",
      "6                    Epe            15.068493\n",
      "7                Eti Osa            36.702128\n",
      "8            Ibeju Lekki             5.714286\n",
      "9            Ifako-Ijaye            17.465753\n",
      "10                 Ikeja            23.076923\n",
      "11               Ikorodu            24.305556\n",
      "12                Kosofe            34.164589\n",
      "13        Lagos Mainland            22.137405\n",
      "14          Lagos-Island            27.528090\n",
      "15                Mushin            17.929760\n",
      "16                   Ojo            13.989637\n",
      "17          Oshodi-Isolo            29.870130\n",
      "18                SOMOLU            36.714976\n",
      "19              Surulere            29.795158\n"
     ]
    }
   ],
   "source": [
    "# Group by LGA and calculate the number of employed and total count\n",
    "industrial_activity_df = ''\n",
    "industrial_activity_df = residential_df.groupby(['Local Government Area', 'industrial_activity_status']).size().unstack(fill_value=0)\n",
    "industrial_activity_df['total'] = industrial_activity_df.sum(axis=1)\n",
    "industrial_activity_df['industrial_activity_rate'] = (industrial_activity_df[True] / industrial_activity_df['total']) * 100\n",
    "\n",
    "\n",
    "# Create the final DataFrame with desired columns\n",
    "industrial_rate_per = industrial_activity_df.reset_index()[['Local Government Area', 'industrial_activity_rate']]\n",
    "industrial_rate_per.columns = ['Local Government Area', 'Industrial_activity']\n",
    "\n",
    "# Print the resulting DataFrame\n",
    "print(industrial_rate_per)"
   ]
  },
  {
   "cell_type": "code",
   "execution_count": 19,
   "id": "30313bba-00e5-4209-8b34-a23236f76cd7",
   "metadata": {},
   "outputs": [
    {
     "name": "stdout",
     "output_type": "stream",
     "text": [
      "  Local Government Area  Median_household_income  Employment_rate  \\\n",
      "0                 Agege                  75000.0        97.474747   \n",
      "1      Ajeromi-Ifelodun                 175000.0        93.309859   \n",
      "2              Alimosho                 175000.0        83.102144   \n",
      "3          Amuwo Odofin                 175000.0        93.137255   \n",
      "4                 Apapa                  75000.0        98.550725   \n",
      "\n",
      "   Industrial_activity  \n",
      "0            18.625277  \n",
      "1            12.666667  \n",
      "2            23.427867  \n",
      "3            24.311927  \n",
      "4            28.095238  \n"
     ]
    }
   ],
   "source": [
    "# Merge with model_df\n",
    "\n",
    "model_df = model_df.merge(industrial_rate_per, on='Local Government Area', how='outer')\n",
    "print(model_df.head())"
   ]
  },
  {
   "cell_type": "markdown",
   "id": "32597d34-fd4b-42f3-9e3b-942a8ca27a10",
   "metadata": {},
   "source": [
    "## FINANCIAL INDICATORS"
   ]
  },
  {
   "cell_type": "markdown",
   "id": "275a0f59-4e73-4f31-b3ef-3724b8d15859",
   "metadata": {},
   "source": [
    "### 1. Generator expenditure"
   ]
  },
  {
   "cell_type": "code",
   "execution_count": 20,
   "id": "9de55f6a-01a1-4aa9-ab1f-4e7860f13ba7",
   "metadata": {},
   "outputs": [],
   "source": [
    "residential_df['gen_expenditure'] = ''"
   ]
  },
  {
   "cell_type": "code",
   "execution_count": 21,
   "id": "7741ae23-9809-4763-8462-34b90ef0af4a",
   "metadata": {},
   "outputs": [
    {
     "name": "stdout",
     "output_type": "stream",
     "text": [
      "0    13485.0\n",
      "1    90083.0\n",
      "2        0.0\n",
      "3    11310.0\n",
      "4        0.0\n",
      "Name: gen_expenditure, dtype: float64\n"
     ]
    }
   ],
   "source": [
    "residential_df['gen_expenditure'] = residential_df['total_monthly_gen_spend']\n",
    "\n",
    "print(residential_df['gen_expenditure'].head())"
   ]
  },
  {
   "cell_type": "code",
   "execution_count": 22,
   "id": "4e9947f6-9a22-476f-874a-62a80d2782de",
   "metadata": {},
   "outputs": [
    {
     "name": "stdout",
     "output_type": "stream",
     "text": [
      "                       gen_expenditure\n",
      "Local Government Area                 \n",
      "Agege                          28644.0\n",
      "Ajeromi-Ifelodun               28980.0\n",
      "Alimosho                       26640.0\n",
      "Amuwo Odofin                   29280.0\n",
      "Apapa                          52785.0\n"
     ]
    }
   ],
   "source": [
    "# Filter out 0 and NA values\n",
    "filtered_gen_expenditure = residential_df[(residential_df['gen_expenditure'] != 0) & (residential_df['gen_expenditure'].notna())]\n",
    "\n",
    "# Group by state and calculate the median\n",
    "median_gen_expenditure_df = filtered_gen_expenditure.groupby('Local Government Area')['gen_expenditure'].median()\n",
    "median_gen_expenditure_df = pd.DataFrame(median_gen_expenditure_df)\n",
    "print(median_gen_expenditure_df.head())"
   ]
  },
  {
   "cell_type": "code",
   "execution_count": 23,
   "id": "b6fd21ee-120d-45d4-962b-f1ef935eb884",
   "metadata": {},
   "outputs": [
    {
     "data": {
      "text/html": [
       "<div>\n",
       "<style scoped>\n",
       "    .dataframe tbody tr th:only-of-type {\n",
       "        vertical-align: middle;\n",
       "    }\n",
       "\n",
       "    .dataframe tbody tr th {\n",
       "        vertical-align: top;\n",
       "    }\n",
       "\n",
       "    .dataframe thead th {\n",
       "        text-align: right;\n",
       "    }\n",
       "</style>\n",
       "<table border=\"1\" class=\"dataframe\">\n",
       "  <thead>\n",
       "    <tr style=\"text-align: right;\">\n",
       "      <th></th>\n",
       "      <th>Gen_expenditure</th>\n",
       "    </tr>\n",
       "    <tr>\n",
       "      <th>Local Government Area</th>\n",
       "      <th></th>\n",
       "    </tr>\n",
       "  </thead>\n",
       "  <tbody>\n",
       "    <tr>\n",
       "      <th>Agege</th>\n",
       "      <td>28644.0</td>\n",
       "    </tr>\n",
       "    <tr>\n",
       "      <th>Ajeromi-Ifelodun</th>\n",
       "      <td>28980.0</td>\n",
       "    </tr>\n",
       "    <tr>\n",
       "      <th>Alimosho</th>\n",
       "      <td>26640.0</td>\n",
       "    </tr>\n",
       "    <tr>\n",
       "      <th>Amuwo Odofin</th>\n",
       "      <td>29280.0</td>\n",
       "    </tr>\n",
       "    <tr>\n",
       "      <th>Apapa</th>\n",
       "      <td>52785.0</td>\n",
       "    </tr>\n",
       "  </tbody>\n",
       "</table>\n",
       "</div>"
      ],
      "text/plain": [
       "                       Gen_expenditure\n",
       "Local Government Area                 \n",
       "Agege                          28644.0\n",
       "Ajeromi-Ifelodun               28980.0\n",
       "Alimosho                       26640.0\n",
       "Amuwo Odofin                   29280.0\n",
       "Apapa                          52785.0"
      ]
     },
     "execution_count": 23,
     "metadata": {},
     "output_type": "execute_result"
    }
   ],
   "source": [
    "median_gen_expenditure_df.rename(columns={'Local Government Area': 'Local Government Area', 'gen_expenditure': 'Gen_expenditure'}, inplace=True)\n",
    "median_gen_expenditure_df.head()"
   ]
  },
  {
   "cell_type": "code",
   "execution_count": 24,
   "id": "0e04ca51-6a8e-40a0-afce-56c091fe55f2",
   "metadata": {},
   "outputs": [
    {
     "name": "stdout",
     "output_type": "stream",
     "text": [
      "  Local Government Area  Median_household_income  Employment_rate  \\\n",
      "0                 Agege                  75000.0        97.474747   \n",
      "1      Ajeromi-Ifelodun                 175000.0        93.309859   \n",
      "2              Alimosho                 175000.0        83.102144   \n",
      "3          Amuwo Odofin                 175000.0        93.137255   \n",
      "4                 Apapa                  75000.0        98.550725   \n",
      "\n",
      "   Industrial_activity  Gen_expenditure  \n",
      "0            18.625277          28644.0  \n",
      "1            12.666667          28980.0  \n",
      "2            23.427867          26640.0  \n",
      "3            24.311927          29280.0  \n",
      "4            28.095238          52785.0  \n"
     ]
    }
   ],
   "source": [
    "# Merge with model_df\n",
    "\n",
    "model_df = model_df.merge(median_gen_expenditure_df, on='Local Government Area', how='outer')\n",
    "\n",
    "print(model_df.head())"
   ]
  },
  {
   "cell_type": "markdown",
   "id": "f00fe9f3-2404-4ac1-a4c5-70895dc7ebf0",
   "metadata": {},
   "source": [
    "### 2. Energy spend ratio"
   ]
  },
  {
   "cell_type": "code",
   "execution_count": 25,
   "id": "4c2cc30b-52b2-4fdb-896e-192554dbf59f",
   "metadata": {},
   "outputs": [],
   "source": [
    "residential_df['total_monthly_energy_spend'] = ''"
   ]
  },
  {
   "cell_type": "code",
   "execution_count": 26,
   "id": "7d95f206-06ea-4762-932f-6e7e0e0e3455",
   "metadata": {},
   "outputs": [],
   "source": [
    "residential_df['total_monthly_energy_spend'] = residential_df['total_monthly_gen_spend'] + residential_df['monthly_grid_spend']"
   ]
  },
  {
   "cell_type": "code",
   "execution_count": 27,
   "id": "b5552fce-fa1d-4998-916f-ff117f78b233",
   "metadata": {},
   "outputs": [
    {
     "data": {
      "text/plain": [
       "0    35155.0\n",
       "1    91583.0\n",
       "2    10000.0\n",
       "3    18310.0\n",
       "4    20000.0\n",
       "Name: total_monthly_energy_spend, dtype: float64"
      ]
     },
     "execution_count": 27,
     "metadata": {},
     "output_type": "execute_result"
    }
   ],
   "source": [
    "residential_df['total_monthly_energy_spend'].head()"
   ]
  },
  {
   "cell_type": "code",
   "execution_count": 28,
   "id": "362ea220-79f4-4381-b2df-2be0a5663cda",
   "metadata": {},
   "outputs": [],
   "source": [
    "residential_df['energy_spend_ratio'] = ''"
   ]
  },
  {
   "cell_type": "code",
   "execution_count": 29,
   "id": "65a8b703-da14-4724-ba3c-919f2f36d680",
   "metadata": {},
   "outputs": [
    {
     "name": "stdout",
     "output_type": "stream",
     "text": [
      "0    20.1\n",
      "1    24.4\n",
      "2     2.7\n",
      "3    73.2\n",
      "4    11.4\n",
      "Name: energy_spend_ratio, dtype: float64\n"
     ]
    }
   ],
   "source": [
    "residential_df['energy_spend_ratio'] = round((residential_df['total_monthly_energy_spend'] / residential_df['household_income']) * 100, 1)\n",
    "\n",
    "print(residential_df['energy_spend_ratio'].head())"
   ]
  },
  {
   "cell_type": "code",
   "execution_count": 30,
   "id": "15e3761c-14b2-469b-843a-0a57782567ad",
   "metadata": {},
   "outputs": [
    {
     "name": "stdout",
     "output_type": "stream",
     "text": [
      "                       energy_spend_ratio\n",
      "Local Government Area                    \n",
      "Agege                                26.7\n",
      "Ajeromi-Ifelodun                     19.4\n",
      "Alimosho                             29.4\n",
      "Amuwo Odofin                         15.7\n",
      "Apapa                                26.2\n"
     ]
    }
   ],
   "source": [
    "# Filter out 0 and NA values\n",
    "filtered_energy_spend_ratio = residential_df[(residential_df['energy_spend_ratio'] != 0) & (residential_df['energy_spend_ratio'].notna())]\n",
    "\n",
    "# Group by state and calculate the median\n",
    "median_energy_spend_ratio = filtered_energy_spend_ratio.groupby('Local Government Area')['energy_spend_ratio'].median()\n",
    "median_energy_spend_ratio = pd.DataFrame(median_energy_spend_ratio)\n",
    "print(median_energy_spend_ratio.head())"
   ]
  },
  {
   "cell_type": "code",
   "execution_count": 31,
   "id": "10a61d28-9fb4-464e-9b9e-9b31a3047689",
   "metadata": {},
   "outputs": [
    {
     "data": {
      "text/html": [
       "<div>\n",
       "<style scoped>\n",
       "    .dataframe tbody tr th:only-of-type {\n",
       "        vertical-align: middle;\n",
       "    }\n",
       "\n",
       "    .dataframe tbody tr th {\n",
       "        vertical-align: top;\n",
       "    }\n",
       "\n",
       "    .dataframe thead th {\n",
       "        text-align: right;\n",
       "    }\n",
       "</style>\n",
       "<table border=\"1\" class=\"dataframe\">\n",
       "  <thead>\n",
       "    <tr style=\"text-align: right;\">\n",
       "      <th></th>\n",
       "      <th>Energy_spend_ratio</th>\n",
       "    </tr>\n",
       "    <tr>\n",
       "      <th>Local Government Area</th>\n",
       "      <th></th>\n",
       "    </tr>\n",
       "  </thead>\n",
       "  <tbody>\n",
       "    <tr>\n",
       "      <th>Agege</th>\n",
       "      <td>26.7</td>\n",
       "    </tr>\n",
       "    <tr>\n",
       "      <th>Ajeromi-Ifelodun</th>\n",
       "      <td>19.4</td>\n",
       "    </tr>\n",
       "    <tr>\n",
       "      <th>Alimosho</th>\n",
       "      <td>29.4</td>\n",
       "    </tr>\n",
       "    <tr>\n",
       "      <th>Amuwo Odofin</th>\n",
       "      <td>15.7</td>\n",
       "    </tr>\n",
       "    <tr>\n",
       "      <th>Apapa</th>\n",
       "      <td>26.2</td>\n",
       "    </tr>\n",
       "  </tbody>\n",
       "</table>\n",
       "</div>"
      ],
      "text/plain": [
       "                       Energy_spend_ratio\n",
       "Local Government Area                    \n",
       "Agege                                26.7\n",
       "Ajeromi-Ifelodun                     19.4\n",
       "Alimosho                             29.4\n",
       "Amuwo Odofin                         15.7\n",
       "Apapa                                26.2"
      ]
     },
     "execution_count": 31,
     "metadata": {},
     "output_type": "execute_result"
    }
   ],
   "source": [
    "median_energy_spend_ratio.rename(columns={'Local Government Area': 'Local Government Area', 'energy_spend_ratio': 'Energy_spend_ratio'}, inplace=True)\n",
    "median_energy_spend_ratio.head()"
   ]
  },
  {
   "cell_type": "code",
   "execution_count": 32,
   "id": "51dc275e-253c-447c-a968-f96d695108fd",
   "metadata": {},
   "outputs": [
    {
     "name": "stdout",
     "output_type": "stream",
     "text": [
      "  Local Government Area  Median_household_income  Employment_rate  \\\n",
      "0                 Agege                  75000.0        97.474747   \n",
      "1      Ajeromi-Ifelodun                 175000.0        93.309859   \n",
      "2              Alimosho                 175000.0        83.102144   \n",
      "3          Amuwo Odofin                 175000.0        93.137255   \n",
      "4                 Apapa                  75000.0        98.550725   \n",
      "\n",
      "   Industrial_activity  Gen_expenditure  Energy_spend_ratio  \n",
      "0            18.625277          28644.0                26.7  \n",
      "1            12.666667          28980.0                19.4  \n",
      "2            23.427867          26640.0                29.4  \n",
      "3            24.311927          29280.0                15.7  \n",
      "4            28.095238          52785.0                26.2  \n"
     ]
    }
   ],
   "source": [
    "# Merge with model_df\n",
    "\n",
    "model_df = model_df.merge(median_energy_spend_ratio, on='Local Government Area', how='outer')\n",
    "print(model_df.head())"
   ]
  },
  {
   "cell_type": "markdown",
   "id": "90a50b09-a110-4b63-8cbc-94c56dda5a3b",
   "metadata": {},
   "source": [
    "## Social Indicators"
   ]
  },
  {
   "cell_type": "markdown",
   "id": "aee4e301-48a6-4ae1-b0e2-1b3e5e46339e",
   "metadata": {},
   "source": [
    "### 1. Population Density"
   ]
  },
  {
   "cell_type": "code",
   "execution_count": 33,
   "id": "f66ab49c-9d81-43fa-9bc6-2540202e3204",
   "metadata": {},
   "outputs": [
    {
     "name": "stderr",
     "output_type": "stream",
     "text": [
      "C:\\Users\\Vista\\AppData\\Local\\Temp\\ipykernel_4668\\291010172.py:3: SettingWithCopyWarning: \n",
      "A value is trying to be set on a copy of a slice from a DataFrame\n",
      "\n",
      "See the caveats in the documentation: https://pandas.pydata.org/pandas-docs/stable/user_guide/indexing.html#returning-a-view-versus-a-copy\n",
      "  pop_density.rename(columns={'Local Government Area': 'Local Government Area', 'Population density per KM2': 'Population_density'}, inplace=True)\n"
     ]
    },
    {
     "data": {
      "text/html": [
       "<div>\n",
       "<style scoped>\n",
       "    .dataframe tbody tr th:only-of-type {\n",
       "        vertical-align: middle;\n",
       "    }\n",
       "\n",
       "    .dataframe tbody tr th {\n",
       "        vertical-align: top;\n",
       "    }\n",
       "\n",
       "    .dataframe thead th {\n",
       "        text-align: right;\n",
       "    }\n",
       "</style>\n",
       "<table border=\"1\" class=\"dataframe\">\n",
       "  <thead>\n",
       "    <tr style=\"text-align: right;\">\n",
       "      <th></th>\n",
       "      <th>Local Government Area</th>\n",
       "      <th>Population_density</th>\n",
       "    </tr>\n",
       "  </thead>\n",
       "  <tbody>\n",
       "    <tr>\n",
       "      <th>0</th>\n",
       "      <td>Agege</td>\n",
       "      <td>91520</td>\n",
       "    </tr>\n",
       "    <tr>\n",
       "      <th>1</th>\n",
       "      <td>Ajeromi-Ifelodun</td>\n",
       "      <td>155511</td>\n",
       "    </tr>\n",
       "    <tr>\n",
       "      <th>2</th>\n",
       "      <td>Alimosho</td>\n",
       "      <td>22372</td>\n",
       "    </tr>\n",
       "    <tr>\n",
       "      <th>3</th>\n",
       "      <td>Amuwo Odofin</td>\n",
       "      <td>4414</td>\n",
       "    </tr>\n",
       "    <tr>\n",
       "      <th>4</th>\n",
       "      <td>Apapa</td>\n",
       "      <td>20435</td>\n",
       "    </tr>\n",
       "  </tbody>\n",
       "</table>\n",
       "</div>"
      ],
      "text/plain": [
       "  Local Government Area  Population_density\n",
       "0                 Agege               91520\n",
       "1      Ajeromi-Ifelodun              155511\n",
       "2              Alimosho               22372\n",
       "3          Amuwo Odofin                4414\n",
       "4                 Apapa               20435"
      ]
     },
     "execution_count": 33,
     "metadata": {},
     "output_type": "execute_result"
    }
   ],
   "source": [
    "pop_density = lga_additional_df[['Local Government Area', 'Population density per KM2']]\n",
    "\n",
    "pop_density.rename(columns={'Local Government Area': 'Local Government Area', 'Population density per KM2': 'Population_density'}, inplace=True)\n",
    "\n",
    "pop_density.head()"
   ]
  },
  {
   "cell_type": "code",
   "execution_count": 34,
   "id": "5b0ba78d-8e9f-467b-b418-04d20bd5ec5d",
   "metadata": {},
   "outputs": [
    {
     "name": "stdout",
     "output_type": "stream",
     "text": [
      "   Local Government Area  Median_household_income  Employment_rate  \\\n",
      "0                  Agege                  75000.0        97.474747   \n",
      "1       Ajeromi-Ifelodun                 175000.0        93.309859   \n",
      "2               Alimosho                 175000.0        83.102144   \n",
      "3           Amuwo Odofin                 175000.0        93.137255   \n",
      "4                  Apapa                  75000.0        98.550725   \n",
      "5                Badagry                  25000.0        89.629630   \n",
      "6                    Epe                  25000.0        83.098592   \n",
      "7                Eti Osa                 375000.0        95.161290   \n",
      "8            Ibeju Lekki                  75000.0       100.000000   \n",
      "9            Ifako-Ijaye                  75000.0        91.929825   \n",
      "10                 Ikeja                 175000.0        96.837945   \n",
      "11               Ikorodu                 175000.0        96.515679   \n",
      "12                Kosofe                 175000.0        95.250000   \n",
      "13        Lagos Mainland                 175000.0        95.416667   \n",
      "14          Lagos-Island                 175000.0        97.134670   \n",
      "15                Mushin                  75000.0        93.076923   \n",
      "16                   Ojo                  25000.0        90.000000   \n",
      "17          Oshodi-Isolo                 175000.0        96.296296   \n",
      "18                SOMOLU                 175000.0        96.733668   \n",
      "19              Surulere                 175000.0        94.905660   \n",
      "\n",
      "    Industrial_activity  Gen_expenditure  Energy_spend_ratio  \\\n",
      "0             18.625277          28644.0               26.70   \n",
      "1             12.666667          28980.0               19.40   \n",
      "2             23.427867          26640.0               29.40   \n",
      "3             24.311927          29280.0               15.70   \n",
      "4             28.095238          52785.0               26.20   \n",
      "5              7.857143          25513.5               34.00   \n",
      "6             15.068493          32166.0               64.60   \n",
      "7             36.702128          51972.0               22.55   \n",
      "8              5.714286          91750.0                8.00   \n",
      "9             17.465753          28604.4               26.70   \n",
      "10            23.076923          31980.0               29.10   \n",
      "11            24.305556          54495.5               16.80   \n",
      "12            34.164589          37650.0               23.40   \n",
      "13            22.137405          30435.0               19.50   \n",
      "14            27.528090          57500.0               15.20   \n",
      "15            17.929760          30290.0               28.00   \n",
      "16            13.989637          32496.0               31.65   \n",
      "17            29.870130          54330.0               24.70   \n",
      "18            36.714976          30980.0               18.70   \n",
      "19            29.795158          50064.0               20.00   \n",
      "\n",
      "    Population_density  \n",
      "0                91520  \n",
      "1               155511  \n",
      "2                22372  \n",
      "3                 4414  \n",
      "4                20435  \n",
      "5                 1293  \n",
      "6                  505  \n",
      "7                 4952  \n",
      "8                  230  \n",
      "9                26069  \n",
      "10               19571  \n",
      "11                3008  \n",
      "12               16677  \n",
      "13               48318  \n",
      "14              139845  \n",
      "15              141655  \n",
      "16                7791  \n",
      "17               40702  \n",
      "18              105745  \n",
      "19               70952  \n"
     ]
    }
   ],
   "source": [
    "# Merge with model_df\n",
    "\n",
    "model_df = model_df.merge(pop_density, on='Local Government Area', how='outer')\n",
    "print(model_df.head(20))"
   ]
  },
  {
   "cell_type": "markdown",
   "id": "4032161f-333e-40d0-b21c-af5db2c37c03",
   "metadata": {},
   "source": [
    "### 2. Household Population"
   ]
  },
  {
   "cell_type": "code",
   "execution_count": 35,
   "id": "10a65356-1ce9-4ad0-a9b6-a9faa873b247",
   "metadata": {},
   "outputs": [
    {
     "name": "stderr",
     "output_type": "stream",
     "text": [
      "C:\\Users\\Vista\\AppData\\Local\\Temp\\ipykernel_4668\\3495401753.py:5: SettingWithCopyWarning: \n",
      "A value is trying to be set on a copy of a slice from a DataFrame\n",
      "\n",
      "See the caveats in the documentation: https://pandas.pydata.org/pandas-docs/stable/user_guide/indexing.html#returning-a-view-versus-a-copy\n",
      "  household_count_df.rename(columns={'Local Government Area': 'Local Government Area', 'HousholdCount': 'Household_count'}, inplace=True)\n"
     ]
    },
    {
     "data": {
      "text/html": [
       "<div>\n",
       "<style scoped>\n",
       "    .dataframe tbody tr th:only-of-type {\n",
       "        vertical-align: middle;\n",
       "    }\n",
       "\n",
       "    .dataframe tbody tr th {\n",
       "        vertical-align: top;\n",
       "    }\n",
       "\n",
       "    .dataframe thead th {\n",
       "        text-align: right;\n",
       "    }\n",
       "</style>\n",
       "<table border=\"1\" class=\"dataframe\">\n",
       "  <thead>\n",
       "    <tr style=\"text-align: right;\">\n",
       "      <th></th>\n",
       "      <th>Local Government Area</th>\n",
       "      <th>Household_count</th>\n",
       "    </tr>\n",
       "  </thead>\n",
       "  <tbody>\n",
       "    <tr>\n",
       "      <th>0</th>\n",
       "      <td>Agege</td>\n",
       "      <td>65000</td>\n",
       "    </tr>\n",
       "    <tr>\n",
       "      <th>1</th>\n",
       "      <td>Ajeromi-Ifelodun</td>\n",
       "      <td>94000</td>\n",
       "    </tr>\n",
       "    <tr>\n",
       "      <th>2</th>\n",
       "      <td>Alimosho</td>\n",
       "      <td>520000</td>\n",
       "    </tr>\n",
       "    <tr>\n",
       "      <th>3</th>\n",
       "      <td>Amuwo Odofin</td>\n",
       "      <td>165000</td>\n",
       "    </tr>\n",
       "    <tr>\n",
       "      <th>4</th>\n",
       "      <td>Apapa</td>\n",
       "      <td>39000</td>\n",
       "    </tr>\n",
       "  </tbody>\n",
       "</table>\n",
       "</div>"
      ],
      "text/plain": [
       "  Local Government Area  Household_count\n",
       "0                 Agege            65000\n",
       "1      Ajeromi-Ifelodun            94000\n",
       "2              Alimosho           520000\n",
       "3          Amuwo Odofin           165000\n",
       "4                 Apapa            39000"
      ]
     },
     "execution_count": 35,
     "metadata": {},
     "output_type": "execute_result"
    }
   ],
   "source": [
    "# HOUSEHOLD COUNT\n",
    "\n",
    "household_count_df = lga_additional_df[['Local Government Area', 'HousholdCount']]\n",
    "\n",
    "household_count_df.rename(columns={'Local Government Area': 'Local Government Area', 'HousholdCount': 'Household_count'}, inplace=True)\n",
    "\n",
    "household_count_df.head()"
   ]
  },
  {
   "cell_type": "code",
   "execution_count": 36,
   "id": "0e1acf7a-7560-485a-81e0-ff281f8e8611",
   "metadata": {},
   "outputs": [
    {
     "name": "stdout",
     "output_type": "stream",
     "text": [
      "  Local Government Area  Median_household_income  Employment_rate  \\\n",
      "0                 Agege                  75000.0        97.474747   \n",
      "1      Ajeromi-Ifelodun                 175000.0        93.309859   \n",
      "2              Alimosho                 175000.0        83.102144   \n",
      "3          Amuwo Odofin                 175000.0        93.137255   \n",
      "4                 Apapa                  75000.0        98.550725   \n",
      "\n",
      "   Industrial_activity  Gen_expenditure  Energy_spend_ratio  \\\n",
      "0            18.625277          28644.0                26.7   \n",
      "1            12.666667          28980.0                19.4   \n",
      "2            23.427867          26640.0                29.4   \n",
      "3            24.311927          29280.0                15.7   \n",
      "4            28.095238          52785.0                26.2   \n",
      "\n",
      "   Population_density  Household_count  \n",
      "0               91520            65000  \n",
      "1              155511            94000  \n",
      "2               22372           520000  \n",
      "3                4414           165000  \n",
      "4               20435            39000  \n"
     ]
    }
   ],
   "source": [
    "# Merge with model_df\n",
    "\n",
    "model_df = model_df.merge(household_count_df, on='Local Government Area', how='outer')\n",
    "print(model_df.head(5))"
   ]
  },
  {
   "cell_type": "markdown",
   "id": "855314a2-382c-4682-bf90-193b9a73af8f",
   "metadata": {},
   "source": [
    "### 3. Building Type"
   ]
  },
  {
   "cell_type": "code",
   "execution_count": 37,
   "id": "5e82a85d-4489-41fe-a8ae-ae85995a2ca8",
   "metadata": {},
   "outputs": [],
   "source": [
    "#Type of building \n",
    "\n",
    "#TYPE 1 - INDIVIDUAL DEPLOYMENT\n",
    "\n",
    "residential_df['building_type_class_ID'] = ''"
   ]
  },
  {
   "cell_type": "code",
   "execution_count": 38,
   "id": "24d5a0c6-2fea-42e6-8d4c-02a2731e2bed",
   "metadata": {},
   "outputs": [
    {
     "data": {
      "text/plain": [
       "array(['Flat', 'Face to Face', 'Bungalow', 'Storey building',\n",
       "       'Others, please specify', 'Duplex', 'Story building'], dtype=object)"
      ]
     },
     "execution_count": 38,
     "metadata": {},
     "output_type": "execute_result"
    }
   ],
   "source": [
    "residential_df[\"What type of building is the household residing in?\"].unique()"
   ]
  },
  {
   "cell_type": "code",
   "execution_count": 39,
   "id": "3ef7d732-e709-4b45-963b-0177047bd603",
   "metadata": {},
   "outputs": [
    {
     "name": "stdout",
     "output_type": "stream",
     "text": [
      "0    4\n",
      "1    2\n",
      "2    2\n",
      "3    5\n",
      "4    2\n",
      "Name: building_type_class_ID, dtype: int64\n"
     ]
    }
   ],
   "source": [
    "# Dictionary for renaming values\n",
    "building_type_ID_rename_dict = {\"Flat\": 4, \n",
    "                             \"Face to Face\": 2, \n",
    "                             \"Bungalow\": 5, \n",
    "                             \"Storey building\": 3, \n",
    "                             \"Others, please specify\": 1, \n",
    "                             \"Duplex\": 5,\n",
    "                             \"Story building\": 3, \n",
    "                             \"\": 0}\n",
    "\n",
    "residential_df['building_type_class_ID'] = residential_df['What type of building is the household residing in?'].replace(building_type_ID_rename_dict)\n",
    "\n",
    "print(residential_df['building_type_class_ID'].head())"
   ]
  },
  {
   "cell_type": "code",
   "execution_count": 40,
   "id": "c4325b0d-ffd8-4a49-b6f9-01957a1bd719",
   "metadata": {},
   "outputs": [
    {
     "name": "stdout",
     "output_type": "stream",
     "text": [
      "                       Building_type_ID\n",
      "Local Government Area                  \n",
      "Agege                               2.0\n",
      "Ajeromi-Ifelodun                    2.0\n",
      "Alimosho                            5.0\n",
      "Amuwo Odofin                        4.0\n",
      "Apapa                               4.0\n"
     ]
    }
   ],
   "source": [
    "# Filter out 0 and NA values\n",
    "filtered_building_type_ID = residential_df[(residential_df['building_type_class_ID'] != 0) & (residential_df['building_type_class_ID'].notna())]\n",
    "\n",
    "# Group by state and calculate the median\n",
    "median_building_type_ID = filtered_building_type_ID.groupby('Local Government Area')['building_type_class_ID'].median()\n",
    "median_building_type_ID = pd.DataFrame(median_building_type_ID)\n",
    "\n",
    "\n",
    "\n",
    "\n",
    "median_building_type_ID.rename(columns={'Local Government Area': 'Local Government Area', 'building_type_class_ID': 'Building_type_ID'}, inplace=True)\n",
    "\n",
    "\n",
    "print(median_building_type_ID.head())"
   ]
  },
  {
   "cell_type": "code",
   "execution_count": 41,
   "id": "ef0db1d3-cfb3-4151-ae46-afba9db8d430",
   "metadata": {},
   "outputs": [
    {
     "name": "stdout",
     "output_type": "stream",
     "text": [
      "  Local Government Area  Median_household_income  Employment_rate  \\\n",
      "0                 Agege                  75000.0        97.474747   \n",
      "1      Ajeromi-Ifelodun                 175000.0        93.309859   \n",
      "2              Alimosho                 175000.0        83.102144   \n",
      "3          Amuwo Odofin                 175000.0        93.137255   \n",
      "4                 Apapa                  75000.0        98.550725   \n",
      "\n",
      "   Industrial_activity  Gen_expenditure  Energy_spend_ratio  \\\n",
      "0            18.625277          28644.0                26.7   \n",
      "1            12.666667          28980.0                19.4   \n",
      "2            23.427867          26640.0                29.4   \n",
      "3            24.311927          29280.0                15.7   \n",
      "4            28.095238          52785.0                26.2   \n",
      "\n",
      "   Population_density  Household_count  Building_type_ID  \n",
      "0               91520            65000               2.0  \n",
      "1              155511            94000               2.0  \n",
      "2               22372           520000               5.0  \n",
      "3                4414           165000               4.0  \n",
      "4               20435            39000               4.0  \n"
     ]
    }
   ],
   "source": [
    "# Merge with model_df\n",
    "\n",
    "model_df = model_df.merge(median_building_type_ID, on='Local Government Area', how='outer')\n",
    "print(model_df.head(5))"
   ]
  },
  {
   "cell_type": "code",
   "execution_count": 42,
   "id": "ba5ff04a-9abf-4120-ba07-6c3190adba41",
   "metadata": {},
   "outputs": [],
   "source": [
    "#Type of building \n",
    "\n",
    "#TYPE 2 - GENERAL DEPLOYMENT\n",
    "\n",
    "residential_df['building_type_class_GD'] = ''"
   ]
  },
  {
   "cell_type": "code",
   "execution_count": 43,
   "id": "4e98b999-1d47-40d0-ba4c-e9b4630922bc",
   "metadata": {},
   "outputs": [
    {
     "data": {
      "text/plain": [
       "array(['Flat', 'Face to Face', 'Bungalow', 'Storey building',\n",
       "       'Others, please specify', 'Duplex', 'Story building'], dtype=object)"
      ]
     },
     "execution_count": 43,
     "metadata": {},
     "output_type": "execute_result"
    }
   ],
   "source": [
    "residential_df[\"What type of building is the household residing in?\"].unique()"
   ]
  },
  {
   "cell_type": "code",
   "execution_count": 44,
   "id": "790249b6-6627-4583-b010-5baf5a0bf502",
   "metadata": {},
   "outputs": [
    {
     "name": "stdout",
     "output_type": "stream",
     "text": [
      "0    5\n",
      "1    3\n",
      "2    3\n",
      "3    5\n",
      "4    3\n",
      "Name: building_type_class_GD, dtype: int64\n"
     ]
    }
   ],
   "source": [
    "# Dictionary for renaming values\n",
    "building_type_GD_rename_dict = {\"Flat\": 5, \n",
    "                             \"Face to Face\": 3, \n",
    "                             \"Bungalow\": 5, \n",
    "                             \"Storey building\": 4, \n",
    "                             \"Others, please specify\": 5, \n",
    "                             \"Duplex\": 5,\n",
    "                             \"Story building\": 4, \n",
    "                             \"\": 0}\n",
    "\n",
    "residential_df['building_type_class_GD'] = residential_df['What type of building is the household residing in?'].replace(building_type_GD_rename_dict)\n",
    "\n",
    "print(residential_df['building_type_class_GD'].head())"
   ]
  },
  {
   "cell_type": "code",
   "execution_count": 45,
   "id": "c7324c63-4852-4e35-904c-2ae4157b65f4",
   "metadata": {},
   "outputs": [
    {
     "name": "stdout",
     "output_type": "stream",
     "text": [
      "                       Building_type_GD\n",
      "Local Government Area                  \n",
      "Agege                               3.0\n",
      "Ajeromi-Ifelodun                    3.0\n",
      "Alimosho                            5.0\n",
      "Amuwo Odofin                        5.0\n",
      "Apapa                               5.0\n"
     ]
    }
   ],
   "source": [
    "# Filter out 0 and NA values\n",
    "filtered_building_type_GD = residential_df[(residential_df['building_type_class_GD'] != 0) & (residential_df['building_type_class_GD'].notna())]\n",
    "\n",
    "# Group by state and calculate the median\n",
    "median_building_type_GD = filtered_building_type_GD.groupby('Local Government Area')['building_type_class_GD'].median()\n",
    "median_building_type_GD = pd.DataFrame(median_building_type_GD)\n",
    "\n",
    "\n",
    "median_building_type_GD.rename(columns={'Local Government Area': 'Local Government Area', 'building_type_class_GD': 'Building_type_GD'}, inplace=True)\n",
    "\n",
    "\n",
    "print(median_building_type_GD.head())"
   ]
  },
  {
   "cell_type": "code",
   "execution_count": 46,
   "id": "b0ca2fef-dfea-480f-8d42-fceaaeaa8493",
   "metadata": {},
   "outputs": [
    {
     "name": "stdout",
     "output_type": "stream",
     "text": [
      "  Local Government Area  Median_household_income  Employment_rate  \\\n",
      "0                 Agege                  75000.0        97.474747   \n",
      "1      Ajeromi-Ifelodun                 175000.0        93.309859   \n",
      "2              Alimosho                 175000.0        83.102144   \n",
      "3          Amuwo Odofin                 175000.0        93.137255   \n",
      "4                 Apapa                  75000.0        98.550725   \n",
      "\n",
      "   Industrial_activity  Gen_expenditure  Energy_spend_ratio  \\\n",
      "0            18.625277          28644.0                26.7   \n",
      "1            12.666667          28980.0                19.4   \n",
      "2            23.427867          26640.0                29.4   \n",
      "3            24.311927          29280.0                15.7   \n",
      "4            28.095238          52785.0                26.2   \n",
      "\n",
      "   Population_density  Household_count  Building_type_ID  Building_type_GD  \n",
      "0               91520            65000               2.0               3.0  \n",
      "1              155511            94000               2.0               3.0  \n",
      "2               22372           520000               5.0               5.0  \n",
      "3                4414           165000               4.0               5.0  \n",
      "4               20435            39000               4.0               5.0  \n"
     ]
    }
   ],
   "source": [
    "# Merge with model_df\n",
    "\n",
    "model_df = model_df.merge(median_building_type_GD, on='Local Government Area', how='outer')\n",
    "print(model_df.head(5))"
   ]
  },
  {
   "cell_type": "markdown",
   "id": "165d9362-61df-4f26-8023-805f8e4cb722",
   "metadata": {},
   "source": [
    "## INFRASTRUCTURE INDICATORS"
   ]
  },
  {
   "cell_type": "markdown",
   "id": "8c28d4ac-8ba0-4084-a848-faf6090c9756",
   "metadata": {},
   "source": [
    "### 1. Grid Supply Reliability"
   ]
  },
  {
   "cell_type": "code",
   "execution_count": 47,
   "id": "d91c988c-b328-44cb-bd02-794b090aa536",
   "metadata": {},
   "outputs": [],
   "source": [
    "residential_df['grid_reliability'] = ''"
   ]
  },
  {
   "cell_type": "code",
   "execution_count": 48,
   "id": "325a767d-3ed7-4003-8699-d7c5ac2978c5",
   "metadata": {},
   "outputs": [
    {
     "data": {
      "text/plain": [
       "array(['4 - 8 hours', '13 - 18 hours', '9 - 12 hours', 'Nil', '< 4 hours',\n",
       "       '> 18 hours'], dtype=object)"
      ]
     },
     "execution_count": 48,
     "metadata": {},
     "output_type": "execute_result"
    }
   ],
   "source": [
    "residential_df[\"How many hours of electricity supply do you typically receive from the grid per day\"].unique()"
   ]
  },
  {
   "cell_type": "code",
   "execution_count": 49,
   "id": "30e7dc5a-1e76-4f94-833b-26d286ad276c",
   "metadata": {},
   "outputs": [
    {
     "name": "stdout",
     "output_type": "stream",
     "text": [
      "0    2\n",
      "1    2\n",
      "2    4\n",
      "3    4\n",
      "4    4\n",
      "Name: grid_reliability, dtype: int64\n"
     ]
    }
   ],
   "source": [
    "# Dictionary for renaming values\n",
    "grid_reliability_rename_dict = {\"Nil\": 0, \n",
    "                                \"< 4 hours\": 1,\n",
    "                                \"4 - 8 hours\": 2, \n",
    "                                \"9 - 12 hours\": 3, \n",
    "                                \"13 - 18 hours\": 4, \n",
    "                                \"> 18 hours\": 5, \n",
    "                                \"\": 0}\n",
    "\n",
    "residential_df['grid_reliability'] = residential_df['How many hours of electricity supply do you typically receive from the grid per day'].replace(grid_reliability_rename_dict)\n",
    "\n",
    "print(residential_df['grid_reliability'].head())"
   ]
  },
  {
   "cell_type": "code",
   "execution_count": 50,
   "id": "318cdeb0-f5d7-431a-8be0-ebd6296fb15e",
   "metadata": {},
   "outputs": [
    {
     "name": "stdout",
     "output_type": "stream",
     "text": [
      "                       Grid_supply_reliability\n",
      "Local Government Area                         \n",
      "Agege                                      3.0\n",
      "Ajeromi-Ifelodun                           3.0\n",
      "Alimosho                                   3.0\n",
      "Amuwo Odofin                               3.0\n",
      "Apapa                                      2.0\n"
     ]
    }
   ],
   "source": [
    "# Filter out 0 and NA values\n",
    "filtered_grid_reliability = residential_df[(residential_df['grid_reliability'] != 0) & (residential_df['grid_reliability'].notna())]\n",
    "\n",
    "# Group by state and calculate the median\n",
    "median_grid_reliability = filtered_grid_reliability.groupby('Local Government Area')['grid_reliability'].median()\n",
    "median_grid_reliability = pd.DataFrame(median_grid_reliability)\n",
    "\n",
    "\n",
    "median_grid_reliability.rename(columns={'Local Government Area': 'Local Government Area', 'grid_reliability': 'Grid_supply_reliability'}, inplace=True)\n",
    "\n",
    "\n",
    "print(median_grid_reliability.head())"
   ]
  },
  {
   "cell_type": "code",
   "execution_count": 51,
   "id": "e344cb89-d0ed-4dc9-ae70-75efcf017f42",
   "metadata": {},
   "outputs": [
    {
     "name": "stdout",
     "output_type": "stream",
     "text": [
      "  Local Government Area  Median_household_income  Employment_rate  \\\n",
      "0                 Agege                  75000.0        97.474747   \n",
      "1      Ajeromi-Ifelodun                 175000.0        93.309859   \n",
      "2              Alimosho                 175000.0        83.102144   \n",
      "3          Amuwo Odofin                 175000.0        93.137255   \n",
      "4                 Apapa                  75000.0        98.550725   \n",
      "\n",
      "   Industrial_activity  Gen_expenditure  Energy_spend_ratio  \\\n",
      "0            18.625277          28644.0                26.7   \n",
      "1            12.666667          28980.0                19.4   \n",
      "2            23.427867          26640.0                29.4   \n",
      "3            24.311927          29280.0                15.7   \n",
      "4            28.095238          52785.0                26.2   \n",
      "\n",
      "   Population_density  Household_count  Building_type_ID  Building_type_GD  \\\n",
      "0               91520            65000               2.0               3.0   \n",
      "1              155511            94000               2.0               3.0   \n",
      "2               22372           520000               5.0               5.0   \n",
      "3                4414           165000               4.0               5.0   \n",
      "4               20435            39000               4.0               5.0   \n",
      "\n",
      "   Grid_supply_reliability  \n",
      "0                      3.0  \n",
      "1                      3.0  \n",
      "2                      3.0  \n",
      "3                      3.0  \n",
      "4                      2.0  \n"
     ]
    }
   ],
   "source": [
    "# Merge with model_df\n",
    "\n",
    "model_df = model_df.merge(median_grid_reliability, on='Local Government Area', how='outer')\n",
    "print(model_df.head(5))"
   ]
  },
  {
   "cell_type": "markdown",
   "id": "1a1574c5-6ed0-4733-b4e8-1e36ab5608c7",
   "metadata": {},
   "source": [
    "### 2. Road Accessibility"
   ]
  },
  {
   "cell_type": "code",
   "execution_count": 52,
   "id": "0229e4d1-89f6-4c23-b87b-abafc0f256d6",
   "metadata": {},
   "outputs": [],
   "source": [
    "# Road Accessibility\n",
    "\n",
    "residential_df['road_accessibility'] = ''"
   ]
  },
  {
   "cell_type": "code",
   "execution_count": 53,
   "id": "422314ea-7111-4385-a063-9525c16d3632",
   "metadata": {},
   "outputs": [
    {
     "name": "stdout",
     "output_type": "stream",
     "text": [
      "0    4\n",
      "1    1\n",
      "2    3\n",
      "3    4\n",
      "4    3\n",
      "Name: road_accessibility, dtype: object\n"
     ]
    }
   ],
   "source": [
    "residential_df['road_accessibility'] = residential_df['How would you rate the overall road accessibility in your area? {Very poor = 1 and Excellent = 5}']\n",
    "\n",
    "print(residential_df['road_accessibility'].head())"
   ]
  },
  {
   "cell_type": "code",
   "execution_count": 54,
   "id": "080b255e-864a-4010-b5cc-01e12e18b4db",
   "metadata": {},
   "outputs": [
    {
     "data": {
      "text/plain": [
       "array(['4', '1', '3', '5', '2', 'Dont Know'], dtype=object)"
      ]
     },
     "execution_count": 54,
     "metadata": {},
     "output_type": "execute_result"
    }
   ],
   "source": [
    "residential_df['road_accessibility'].unique()"
   ]
  },
  {
   "cell_type": "code",
   "execution_count": 55,
   "id": "b97f43cd-63f7-4f12-961b-257ba9f3bd70",
   "metadata": {},
   "outputs": [
    {
     "name": "stdout",
     "output_type": "stream",
     "text": [
      "[4 1 3 5 2]\n"
     ]
    },
    {
     "name": "stderr",
     "output_type": "stream",
     "text": [
      "C:\\Users\\Vista\\AppData\\Local\\Temp\\ipykernel_4668\\1399663818.py:8: SettingWithCopyWarning: \n",
      "A value is trying to be set on a copy of a slice from a DataFrame.\n",
      "Try using .loc[row_indexer,col_indexer] = value instead\n",
      "\n",
      "See the caveats in the documentation: https://pandas.pydata.org/pandas-docs/stable/user_guide/indexing.html#returning-a-view-versus-a-copy\n",
      "  filtered_road_accessibility['road_accessibility'] = filtered_road_accessibility['road_accessibility'].astype(int)\n"
     ]
    }
   ],
   "source": [
    "# Filter the DataFrame\n",
    "filtered_road_accessibility = residential_df[\n",
    "    (residential_df['road_accessibility'] != 0) &\n",
    "    (residential_df['road_accessibility'].notna()) &\n",
    "    (residential_df['road_accessibility'] != \"Dont Know\")\n",
    "]\n",
    "# Convert the Series to integers using astype\n",
    "filtered_road_accessibility['road_accessibility'] = filtered_road_accessibility['road_accessibility'].astype(int)\n",
    "# Get the unique values of the 'road_accessibility' column in the filtered DataFrame\n",
    "unique_road_accessibility = filtered_road_accessibility['road_accessibility'].unique()\n",
    "\n",
    "print(unique_road_accessibility)\n"
   ]
  },
  {
   "cell_type": "code",
   "execution_count": 56,
   "id": "4bde966a-952d-436a-850d-bd4c335d5d56",
   "metadata": {},
   "outputs": [
    {
     "name": "stdout",
     "output_type": "stream",
     "text": [
      "                       Road_accessibility\n",
      "Local Government Area                    \n",
      "Agege                                 3.0\n",
      "Ajeromi-Ifelodun                      3.0\n",
      "Alimosho                              2.0\n",
      "Amuwo Odofin                          3.0\n",
      "Apapa                                 3.0\n"
     ]
    }
   ],
   "source": [
    "# Group by state and calculate the median\n",
    "median_road_accessibility = filtered_road_accessibility.groupby('Local Government Area')['road_accessibility'].median()\n",
    "median_road_accessibility = pd.DataFrame(median_road_accessibility)\n",
    "\n",
    "\n",
    "median_road_accessibility.rename(columns={'Local Government Area': 'Local Government Area', 'road_accessibility': 'Road_accessibility'}, inplace=True)\n",
    "\n",
    "\n",
    "print(median_road_accessibility.head())"
   ]
  },
  {
   "cell_type": "code",
   "execution_count": 57,
   "id": "bd1c80ed-58b2-48eb-bd6a-d29076c57be6",
   "metadata": {},
   "outputs": [
    {
     "name": "stdout",
     "output_type": "stream",
     "text": [
      "  Local Government Area  Median_household_income  Employment_rate  \\\n",
      "0                 Agege                  75000.0        97.474747   \n",
      "1      Ajeromi-Ifelodun                 175000.0        93.309859   \n",
      "2              Alimosho                 175000.0        83.102144   \n",
      "3          Amuwo Odofin                 175000.0        93.137255   \n",
      "4                 Apapa                  75000.0        98.550725   \n",
      "\n",
      "   Industrial_activity  Gen_expenditure  Energy_spend_ratio  \\\n",
      "0            18.625277          28644.0                26.7   \n",
      "1            12.666667          28980.0                19.4   \n",
      "2            23.427867          26640.0                29.4   \n",
      "3            24.311927          29280.0                15.7   \n",
      "4            28.095238          52785.0                26.2   \n",
      "\n",
      "   Population_density  Household_count  Building_type_ID  Building_type_GD  \\\n",
      "0               91520            65000               2.0               3.0   \n",
      "1              155511            94000               2.0               3.0   \n",
      "2               22372           520000               5.0               5.0   \n",
      "3                4414           165000               4.0               5.0   \n",
      "4               20435            39000               4.0               5.0   \n",
      "\n",
      "   Grid_supply_reliability  Road_accessibility  \n",
      "0                      3.0                 3.0  \n",
      "1                      3.0                 3.0  \n",
      "2                      3.0                 2.0  \n",
      "3                      3.0                 3.0  \n",
      "4                      2.0                 3.0  \n"
     ]
    }
   ],
   "source": [
    "# Merge with model_df\n",
    "\n",
    "model_df = model_df.merge(median_road_accessibility, on='Local Government Area', how='outer')\n",
    "print(model_df.head(5))"
   ]
  },
  {
   "cell_type": "markdown",
   "id": "4f38be86-13db-4cd8-91b7-684cf725be6f",
   "metadata": {},
   "source": [
    "### 3. Safety"
   ]
  },
  {
   "cell_type": "code",
   "execution_count": 58,
   "id": "6ce9a9e5-527f-4009-ab3f-822f993538cd",
   "metadata": {},
   "outputs": [],
   "source": [
    "# Security\n",
    "\n",
    "residential_df['security_rating'] = ''"
   ]
  },
  {
   "cell_type": "code",
   "execution_count": 59,
   "id": "84f768d4-ef43-4bf6-b45a-1d92d7c3d30c",
   "metadata": {},
   "outputs": [
    {
     "name": "stdout",
     "output_type": "stream",
     "text": [
      "0    3\n",
      "1    5\n",
      "2    3\n",
      "3    3\n",
      "4    4\n",
      "Name: security_rating, dtype: object\n"
     ]
    }
   ],
   "source": [
    "residential_df['security_rating'] = residential_df['How would you rate the overall security in your area? {Very poor = 1 and Excellent = 5}']\n",
    "\n",
    "print(residential_df['security_rating'].head())"
   ]
  },
  {
   "cell_type": "code",
   "execution_count": 60,
   "id": "575e6478-c83d-4771-aa8a-8cd764e38213",
   "metadata": {},
   "outputs": [
    {
     "data": {
      "text/plain": [
       "array(['3', '5', '4', '2', '1', 'Dont Know'], dtype=object)"
      ]
     },
     "execution_count": 60,
     "metadata": {},
     "output_type": "execute_result"
    }
   ],
   "source": [
    "residential_df['security_rating'].unique()"
   ]
  },
  {
   "cell_type": "code",
   "execution_count": 61,
   "id": "a69fbadf-974c-45c4-a57d-36106109b06f",
   "metadata": {},
   "outputs": [
    {
     "name": "stdout",
     "output_type": "stream",
     "text": [
      "[3 5 4 2 1]\n"
     ]
    },
    {
     "name": "stderr",
     "output_type": "stream",
     "text": [
      "C:\\Users\\Vista\\AppData\\Local\\Temp\\ipykernel_4668\\70649516.py:8: SettingWithCopyWarning: \n",
      "A value is trying to be set on a copy of a slice from a DataFrame.\n",
      "Try using .loc[row_indexer,col_indexer] = value instead\n",
      "\n",
      "See the caveats in the documentation: https://pandas.pydata.org/pandas-docs/stable/user_guide/indexing.html#returning-a-view-versus-a-copy\n",
      "  filtered_security_rating['security_rating'] = filtered_security_rating['security_rating'].astype(int)\n"
     ]
    }
   ],
   "source": [
    "# Filter the DataFrame\n",
    "filtered_security_rating = residential_df[\n",
    "    (residential_df['security_rating'] != 0) &\n",
    "    (residential_df['security_rating'].notna()) &\n",
    "    (residential_df['security_rating'] != \"Dont Know\")\n",
    "]\n",
    "# Convert the Series to integers using astype\n",
    "filtered_security_rating['security_rating'] = filtered_security_rating['security_rating'].astype(int)\n",
    "# Get the unique values of the 'road_accessibility' column in the filtered DataFrame\n",
    "unique_security_rating = filtered_security_rating['security_rating'].unique()\n",
    "\n",
    "print(unique_security_rating)\n"
   ]
  },
  {
   "cell_type": "code",
   "execution_count": 62,
   "id": "25ac0f6b-1a8a-41e2-9ccf-859b180bd21a",
   "metadata": {},
   "outputs": [
    {
     "name": "stdout",
     "output_type": "stream",
     "text": [
      "                       Safety\n",
      "Local Government Area        \n",
      "Agege                     4.0\n",
      "Ajeromi-Ifelodun          3.0\n",
      "Alimosho                  3.0\n",
      "Amuwo Odofin              4.0\n",
      "Apapa                     3.0\n"
     ]
    }
   ],
   "source": [
    "# Group by state and calculate the median\n",
    "median_security_rating = filtered_security_rating.groupby('Local Government Area')['security_rating'].median()\n",
    "median_security_rating = pd.DataFrame(median_security_rating)\n",
    "\n",
    "\n",
    "median_security_rating.rename(columns={'Local Government Area': 'Local Government Area', 'security_rating': 'Safety'}, inplace=True)\n",
    "\n",
    "\n",
    "print(median_security_rating.head())"
   ]
  },
  {
   "cell_type": "code",
   "execution_count": 63,
   "id": "76e4ba0a-052a-4a2d-b800-f4a04c8fc290",
   "metadata": {},
   "outputs": [
    {
     "name": "stdout",
     "output_type": "stream",
     "text": [
      "  Local Government Area  Median_household_income  Employment_rate  \\\n",
      "0                 Agege                  75000.0        97.474747   \n",
      "1      Ajeromi-Ifelodun                 175000.0        93.309859   \n",
      "2              Alimosho                 175000.0        83.102144   \n",
      "3          Amuwo Odofin                 175000.0        93.137255   \n",
      "4                 Apapa                  75000.0        98.550725   \n",
      "\n",
      "   Industrial_activity  Gen_expenditure  Energy_spend_ratio  \\\n",
      "0            18.625277          28644.0                26.7   \n",
      "1            12.666667          28980.0                19.4   \n",
      "2            23.427867          26640.0                29.4   \n",
      "3            24.311927          29280.0                15.7   \n",
      "4            28.095238          52785.0                26.2   \n",
      "\n",
      "   Population_density  Household_count  Building_type_ID  Building_type_GD  \\\n",
      "0               91520            65000               2.0               3.0   \n",
      "1              155511            94000               2.0               3.0   \n",
      "2               22372           520000               5.0               5.0   \n",
      "3                4414           165000               4.0               5.0   \n",
      "4               20435            39000               4.0               5.0   \n",
      "\n",
      "   Grid_supply_reliability  Road_accessibility  Safety  \n",
      "0                      3.0                 3.0     4.0  \n",
      "1                      3.0                 3.0     3.0  \n",
      "2                      3.0                 2.0     3.0  \n",
      "3                      3.0                 3.0     4.0  \n",
      "4                      2.0                 3.0     3.0  \n"
     ]
    }
   ],
   "source": [
    "# Merge with model_df\n",
    "\n",
    "model_df = model_df.merge(median_security_rating, on='Local Government Area', how='outer')\n",
    "print(model_df.head(5))"
   ]
  },
  {
   "cell_type": "code",
   "execution_count": 64,
   "id": "8e855588-9aa7-4f17-acf3-e7a24d29609a",
   "metadata": {},
   "outputs": [],
   "source": [
    "environmental_indicators = ['Solar_panel_usage', 'Environmental_impact']"
   ]
  },
  {
   "cell_type": "markdown",
   "id": "d1cb1cc3-3ada-4ab0-90b8-18a9f115b7e5",
   "metadata": {},
   "source": [
    "## ENVIRONMENTAL IMPACT"
   ]
  },
  {
   "cell_type": "markdown",
   "id": "d0639e97-8016-4bdc-a6dd-973dac6ed237",
   "metadata": {},
   "source": [
    "### 1. Solar Panel Usage"
   ]
  },
  {
   "cell_type": "code",
   "execution_count": 65,
   "id": "f08a29ae-c477-491a-9d89-cb579ed91f73",
   "metadata": {},
   "outputs": [],
   "source": [
    "#solar panel usage\n",
    "residential_df['solar_panel_usage'] = ''"
   ]
  },
  {
   "cell_type": "code",
   "execution_count": 66,
   "id": "40896674-c382-453d-a1f7-a571e643238e",
   "metadata": {},
   "outputs": [
    {
     "data": {
      "text/plain": [
       "array([nan,  0.,  1.])"
      ]
     },
     "execution_count": 66,
     "metadata": {},
     "output_type": "execute_result"
    }
   ],
   "source": [
    "residential_df[\"Do you use solar system(s)?\"].unique()"
   ]
  },
  {
   "cell_type": "code",
   "execution_count": 67,
   "id": "60170538-17a1-4dbd-9ba3-6f0d8906a833",
   "metadata": {},
   "outputs": [
    {
     "name": "stdout",
     "output_type": "stream",
     "text": [
      "0    False\n",
      "1    False\n",
      "2    False\n",
      "3    False\n",
      "4    False\n",
      "Name: solar_panel_usage, dtype: bool\n"
     ]
    }
   ],
   "source": [
    "filtered_solar_usage = { 0.0: False, \n",
    "                1.0: True,\n",
    "                np.nan: False}\n",
    "\n",
    "residential_df['solar_panel_usage'] = residential_df['Do you use solar system(s)?'].replace(filtered_solar_usage)\n",
    "\n",
    "print(residential_df['solar_panel_usage'].head())\n"
   ]
  },
  {
   "cell_type": "code",
   "execution_count": 68,
   "id": "b0f73bc6-5ee6-4389-a4c9-a4b6ac91c582",
   "metadata": {},
   "outputs": [
    {
     "name": "stdout",
     "output_type": "stream",
     "text": [
      "   Local Government Area  Solar_panel_usage\n",
      "0                  Agege           0.000000\n",
      "1       Ajeromi-Ifelodun           0.000000\n",
      "2               Alimosho           1.972873\n",
      "3           Amuwo Odofin           1.834862\n",
      "4                  Apapa           2.380952\n",
      "5                Badagry           0.000000\n",
      "6                    Epe           0.000000\n",
      "7                Eti Osa           4.255319\n",
      "8            Ibeju Lekki           0.000000\n",
      "9            Ifako-Ijaye           0.342466\n",
      "10                 Ikeja           2.307692\n",
      "11               Ikorodu           2.777778\n",
      "12                Kosofe           2.992519\n",
      "13        Lagos Mainland           1.526718\n",
      "14          Lagos-Island           0.561798\n",
      "15                Mushin           0.554529\n",
      "16                   Ojo           0.259067\n",
      "17          Oshodi-Isolo           1.298701\n",
      "18                SOMOLU           2.415459\n",
      "19              Surulere           1.489758\n"
     ]
    }
   ],
   "source": [
    "# Group by LGA and calculate the number of employed and total count\n",
    "solar_panel_usage_df = ''\n",
    "solar_panel_usage_df = residential_df.groupby(['Local Government Area', 'solar_panel_usage']).size().unstack(fill_value=0)\n",
    "solar_panel_usage_df['total'] = solar_panel_usage_df.sum(axis=1)\n",
    "solar_panel_usage_df['solar_panel_usage_rate'] = (solar_panel_usage_df[True] / solar_panel_usage_df['total']) * 100\n",
    "\n",
    "\n",
    "# Create the final DataFrame with desired columns\n",
    "solar_panel_rate_per = solar_panel_usage_df.reset_index()[['Local Government Area', 'solar_panel_usage_rate']]\n",
    "solar_panel_rate_per.columns = ['Local Government Area', 'Solar_panel_usage']\n",
    "\n",
    "# Print the resulting DataFrame\n",
    "print(solar_panel_rate_per)\n"
   ]
  },
  {
   "cell_type": "code",
   "execution_count": 69,
   "id": "3b5227f5-7337-4431-b1fa-3cf874c2f181",
   "metadata": {},
   "outputs": [
    {
     "name": "stdout",
     "output_type": "stream",
     "text": [
      "  Local Government Area  Median_household_income  Employment_rate  \\\n",
      "0                 Agege                  75000.0        97.474747   \n",
      "1      Ajeromi-Ifelodun                 175000.0        93.309859   \n",
      "2              Alimosho                 175000.0        83.102144   \n",
      "3          Amuwo Odofin                 175000.0        93.137255   \n",
      "4                 Apapa                  75000.0        98.550725   \n",
      "\n",
      "   Industrial_activity  Gen_expenditure  Energy_spend_ratio  \\\n",
      "0            18.625277          28644.0                26.7   \n",
      "1            12.666667          28980.0                19.4   \n",
      "2            23.427867          26640.0                29.4   \n",
      "3            24.311927          29280.0                15.7   \n",
      "4            28.095238          52785.0                26.2   \n",
      "\n",
      "   Population_density  Household_count  Building_type_ID  Building_type_GD  \\\n",
      "0               91520            65000               2.0               3.0   \n",
      "1              155511            94000               2.0               3.0   \n",
      "2               22372           520000               5.0               5.0   \n",
      "3                4414           165000               4.0               5.0   \n",
      "4               20435            39000               4.0               5.0   \n",
      "\n",
      "   Grid_supply_reliability  Road_accessibility  Safety  Solar_panel_usage  \n",
      "0                      3.0                 3.0     4.0           0.000000  \n",
      "1                      3.0                 3.0     3.0           0.000000  \n",
      "2                      3.0                 2.0     3.0           1.972873  \n",
      "3                      3.0                 3.0     4.0           1.834862  \n",
      "4                      2.0                 3.0     3.0           2.380952  \n"
     ]
    }
   ],
   "source": [
    "# Merge with model_df\n",
    "\n",
    "model_df = model_df.merge(solar_panel_rate_per, on='Local Government Area', how='outer')\n",
    "print(model_df.head())"
   ]
  },
  {
   "cell_type": "markdown",
   "id": "05c4754b-5bd5-46d3-93b5-b89a61af11aa",
   "metadata": {},
   "source": [
    "### 2. Solar Panel Adoption Rate"
   ]
  },
  {
   "cell_type": "code",
   "execution_count": 70,
   "id": "5a1de8e4-02a8-4619-b784-bc0acc23d0be",
   "metadata": {},
   "outputs": [],
   "source": [
    "#solar panel adoption\n",
    "residential_df['solar_panel_adoption'] = ''"
   ]
  },
  {
   "cell_type": "code",
   "execution_count": 71,
   "id": "9a1634c4-5417-479c-b2b6-6331a087c40b",
   "metadata": {},
   "outputs": [
    {
     "data": {
      "text/plain": [
       "array([nan,  1.,  0.])"
      ]
     },
     "execution_count": 71,
     "metadata": {},
     "output_type": "execute_result"
    }
   ],
   "source": [
    "residential_df[\"If not {about solar power system(s)}, would you be interested in switching to solar home system(s)?\"].unique()"
   ]
  },
  {
   "cell_type": "code",
   "execution_count": 72,
   "id": "cec9af24-f533-4d1e-9c5d-0b558f94eff6",
   "metadata": {},
   "outputs": [
    {
     "data": {
      "text/plain": [
       "(4937, 239)"
      ]
     },
     "execution_count": 72,
     "metadata": {},
     "output_type": "execute_result"
    }
   ],
   "source": [
    "# subset of dataframe\n",
    "temp_solar_adoption_df = residential_df[residential_df[\"Do you use solar system(s)?\"] == False]\n",
    "temp_solar_adoption_df.shape"
   ]
  },
  {
   "cell_type": "code",
   "execution_count": 73,
   "id": "00c27b95-0813-48fd-8175-136beac4fbcc",
   "metadata": {},
   "outputs": [
    {
     "name": "stderr",
     "output_type": "stream",
     "text": [
      "C:\\Users\\Vista\\AppData\\Local\\Temp\\ipykernel_4668\\2645002484.py:2: SettingWithCopyWarning: \n",
      "A value is trying to be set on a copy of a slice from a DataFrame.\n",
      "Try using .loc[row_indexer,col_indexer] = value instead\n",
      "\n",
      "See the caveats in the documentation: https://pandas.pydata.org/pandas-docs/stable/user_guide/indexing.html#returning-a-view-versus-a-copy\n",
      "  temp_solar_adoption_df['solar_panel_adoption'] = ''\n"
     ]
    }
   ],
   "source": [
    "#solar panel adoption\n",
    "temp_solar_adoption_df['solar_panel_adoption'] = ''"
   ]
  },
  {
   "cell_type": "code",
   "execution_count": 74,
   "id": "fc942f35-c43b-4268-bad4-fae0794c35dc",
   "metadata": {},
   "outputs": [
    {
     "data": {
      "text/plain": [
       "array([1., 0.])"
      ]
     },
     "execution_count": 74,
     "metadata": {},
     "output_type": "execute_result"
    }
   ],
   "source": [
    "temp_solar_adoption_df[\"If not {about solar power system(s)}, would you be interested in switching to solar home system(s)?\"].unique()"
   ]
  },
  {
   "cell_type": "code",
   "execution_count": 75,
   "id": "ed2062d8-facb-482b-a390-b766ec6d3712",
   "metadata": {},
   "outputs": [
    {
     "name": "stdout",
     "output_type": "stream",
     "text": [
      "1    True\n",
      "2    True\n",
      "3    True\n",
      "5    True\n",
      "6    True\n",
      "Name: solar_panel_adoption, dtype: bool\n"
     ]
    },
    {
     "name": "stderr",
     "output_type": "stream",
     "text": [
      "C:\\Users\\Vista\\AppData\\Local\\Temp\\ipykernel_4668\\841796983.py:5: SettingWithCopyWarning: \n",
      "A value is trying to be set on a copy of a slice from a DataFrame.\n",
      "Try using .loc[row_indexer,col_indexer] = value instead\n",
      "\n",
      "See the caveats in the documentation: https://pandas.pydata.org/pandas-docs/stable/user_guide/indexing.html#returning-a-view-versus-a-copy\n",
      "  temp_solar_adoption_df['solar_panel_adoption'] = temp_solar_adoption_df['If not {about solar power system(s)}, would you be interested in switching to solar home system(s)?'].replace(filtered_solar_adoption)\n"
     ]
    }
   ],
   "source": [
    "filtered_solar_adoption = { 0.0: False, \n",
    "                1.0: True,\n",
    "                np.nan: False}\n",
    "\n",
    "temp_solar_adoption_df['solar_panel_adoption'] = temp_solar_adoption_df['If not {about solar power system(s)}, would you be interested in switching to solar home system(s)?'].replace(filtered_solar_adoption)\n",
    "\n",
    "print(temp_solar_adoption_df['solar_panel_adoption'].head())\n"
   ]
  },
  {
   "cell_type": "code",
   "execution_count": 76,
   "id": "04508d0f-5139-4629-a3d7-b7d7e990b007",
   "metadata": {},
   "outputs": [
    {
     "name": "stdout",
     "output_type": "stream",
     "text": [
      "   Local Government Area  Solar_panel_adoption\n",
      "0                  Agege             70.068027\n",
      "1       Ajeromi-Ifelodun             53.545232\n",
      "2               Alimosho             92.031250\n",
      "3           Amuwo Odofin             61.904762\n",
      "4                  Apapa             92.105263\n",
      "5                Badagry             56.250000\n",
      "6                    Epe             70.078740\n",
      "7                Eti Osa             87.441860\n",
      "8            Ibeju Lekki             74.285714\n",
      "9            Ifako-Ijaye             55.924171\n",
      "10                 Ikeja             63.690476\n",
      "11               Ikorodu             92.397661\n",
      "12                Kosofe             85.897436\n",
      "13        Lagos Mainland             53.431373\n",
      "14          Lagos-Island             85.589520\n",
      "15                Mushin             54.255319\n",
      "16                   Ojo             81.372549\n",
      "17          Oshodi-Isolo             94.078947\n",
      "18                SOMOLU             64.797508\n",
      "19              Surulere             88.502674\n"
     ]
    }
   ],
   "source": [
    "# Group by LGA and calculate the number of employed and total count\n",
    "solar_panel_adoption_df = ''\n",
    "solar_panel_adoption_df = temp_solar_adoption_df.groupby(['Local Government Area', 'solar_panel_adoption']).size().unstack(fill_value=0)\n",
    "solar_panel_adoption_df['total'] = solar_panel_adoption_df.sum(axis=1)\n",
    "solar_panel_adoption_df['solar_panel_adoption_rate'] = (solar_panel_adoption_df[True] / solar_panel_adoption_df['total']) * 100\n",
    "\n",
    "\n",
    "# Create the final DataFrame with desired columns\n",
    "solar_panel_adoption_rate_per = solar_panel_adoption_df.reset_index()[['Local Government Area', 'solar_panel_adoption_rate']]\n",
    "solar_panel_adoption_rate_per.columns = ['Local Government Area', 'Solar_panel_adoption']\n",
    "\n",
    "# Print the resulting DataFrame\n",
    "print(solar_panel_adoption_rate_per)\n"
   ]
  },
  {
   "cell_type": "code",
   "execution_count": null,
   "id": "b24ec843-6b66-496a-9bda-68a27108b621",
   "metadata": {},
   "outputs": [],
   "source": []
  },
  {
   "cell_type": "code",
   "execution_count": 77,
   "id": "5d15bcc7-f311-4c00-8523-3326354e8a03",
   "metadata": {},
   "outputs": [
    {
     "name": "stdout",
     "output_type": "stream",
     "text": [
      "  Local Government Area  Median_household_income  Employment_rate  \\\n",
      "0                 Agege                  75000.0        97.474747   \n",
      "1      Ajeromi-Ifelodun                 175000.0        93.309859   \n",
      "2              Alimosho                 175000.0        83.102144   \n",
      "3          Amuwo Odofin                 175000.0        93.137255   \n",
      "4                 Apapa                  75000.0        98.550725   \n",
      "\n",
      "   Industrial_activity  Gen_expenditure  Energy_spend_ratio  \\\n",
      "0            18.625277          28644.0                26.7   \n",
      "1            12.666667          28980.0                19.4   \n",
      "2            23.427867          26640.0                29.4   \n",
      "3            24.311927          29280.0                15.7   \n",
      "4            28.095238          52785.0                26.2   \n",
      "\n",
      "   Population_density  Household_count  Building_type_ID  Building_type_GD  \\\n",
      "0               91520            65000               2.0               3.0   \n",
      "1              155511            94000               2.0               3.0   \n",
      "2               22372           520000               5.0               5.0   \n",
      "3                4414           165000               4.0               5.0   \n",
      "4               20435            39000               4.0               5.0   \n",
      "\n",
      "   Grid_supply_reliability  Road_accessibility  Safety  Solar_panel_usage  \\\n",
      "0                      3.0                 3.0     4.0           0.000000   \n",
      "1                      3.0                 3.0     3.0           0.000000   \n",
      "2                      3.0                 2.0     3.0           1.972873   \n",
      "3                      3.0                 3.0     4.0           1.834862   \n",
      "4                      2.0                 3.0     3.0           2.380952   \n",
      "\n",
      "   Solar_panel_adoption  \n",
      "0             70.068027  \n",
      "1             53.545232  \n",
      "2             92.031250  \n",
      "3             61.904762  \n",
      "4             92.105263  \n"
     ]
    }
   ],
   "source": [
    "# Merge with model_df\n",
    "\n",
    "model_df = model_df.merge(solar_panel_adoption_rate_per, on='Local Government Area', how='outer')\n",
    "print(model_df.head())"
   ]
  },
  {
   "cell_type": "markdown",
   "id": "9ec37562-d8b7-442c-bfca-477b284ce1ea",
   "metadata": {},
   "source": [
    "### 3. Carbon Emmission"
   ]
  },
  {
   "cell_type": "code",
   "execution_count": 78,
   "id": "7e7d6969-ab4b-4e8b-b3db-359e7861ba36",
   "metadata": {},
   "outputs": [
    {
     "name": "stderr",
     "output_type": "stream",
     "text": [
      "C:\\Users\\Vista\\AppData\\Local\\Temp\\ipykernel_4668\\966815367.py:3: SettingWithCopyWarning: \n",
      "A value is trying to be set on a copy of a slice from a DataFrame\n",
      "\n",
      "See the caveats in the documentation: https://pandas.pydata.org/pandas-docs/stable/user_guide/indexing.html#returning-a-view-versus-a-copy\n",
      "  fuel_consumed_df.rename(columns={'Local Government Area': 'Local Government Area', 'Annual Fuel Consumed in Litres': 'Emmission_Reduction'}, inplace=True)\n"
     ]
    },
    {
     "data": {
      "text/html": [
       "<div>\n",
       "<style scoped>\n",
       "    .dataframe tbody tr th:only-of-type {\n",
       "        vertical-align: middle;\n",
       "    }\n",
       "\n",
       "    .dataframe tbody tr th {\n",
       "        vertical-align: top;\n",
       "    }\n",
       "\n",
       "    .dataframe thead th {\n",
       "        text-align: right;\n",
       "    }\n",
       "</style>\n",
       "<table border=\"1\" class=\"dataframe\">\n",
       "  <thead>\n",
       "    <tr style=\"text-align: right;\">\n",
       "      <th></th>\n",
       "      <th>Local Government Area</th>\n",
       "      <th>Emmission_Reduction</th>\n",
       "    </tr>\n",
       "  </thead>\n",
       "  <tbody>\n",
       "    <tr>\n",
       "      <th>0</th>\n",
       "      <td>Agege</td>\n",
       "      <td>24530000</td>\n",
       "    </tr>\n",
       "    <tr>\n",
       "      <th>1</th>\n",
       "      <td>Ajeromi-Ifelodun</td>\n",
       "      <td>49904000</td>\n",
       "    </tr>\n",
       "    <tr>\n",
       "      <th>2</th>\n",
       "      <td>Alimosho</td>\n",
       "      <td>669307000</td>\n",
       "    </tr>\n",
       "    <tr>\n",
       "      <th>3</th>\n",
       "      <td>Amuwo Odofin</td>\n",
       "      <td>339664000</td>\n",
       "    </tr>\n",
       "    <tr>\n",
       "      <th>4</th>\n",
       "      <td>Apapa</td>\n",
       "      <td>165208000</td>\n",
       "    </tr>\n",
       "  </tbody>\n",
       "</table>\n",
       "</div>"
      ],
      "text/plain": [
       "  Local Government Area  Emmission_Reduction\n",
       "0                 Agege             24530000\n",
       "1      Ajeromi-Ifelodun             49904000\n",
       "2              Alimosho            669307000\n",
       "3          Amuwo Odofin            339664000\n",
       "4                 Apapa            165208000"
      ]
     },
     "execution_count": 78,
     "metadata": {},
     "output_type": "execute_result"
    }
   ],
   "source": [
    "fuel_consumed_df = lga_additional_df[['Local Government Area', 'Annual Fuel Consumed in Litres']]\n",
    "\n",
    "fuel_consumed_df.rename(columns={'Local Government Area': 'Local Government Area', 'Annual Fuel Consumed in Litres': 'Emmission_Reduction'}, inplace=True)\n",
    "\n",
    "fuel_consumed_df.head()"
   ]
  },
  {
   "cell_type": "code",
   "execution_count": 79,
   "id": "812a0125-653c-45eb-a4e9-eca6a81765dc",
   "metadata": {},
   "outputs": [
    {
     "name": "stdout",
     "output_type": "stream",
     "text": [
      "  Local Government Area  Median_household_income  Employment_rate  \\\n",
      "0                 Agege                  75000.0        97.474747   \n",
      "1      Ajeromi-Ifelodun                 175000.0        93.309859   \n",
      "2              Alimosho                 175000.0        83.102144   \n",
      "3          Amuwo Odofin                 175000.0        93.137255   \n",
      "4                 Apapa                  75000.0        98.550725   \n",
      "\n",
      "   Industrial_activity  Gen_expenditure  Energy_spend_ratio  \\\n",
      "0            18.625277          28644.0                26.7   \n",
      "1            12.666667          28980.0                19.4   \n",
      "2            23.427867          26640.0                29.4   \n",
      "3            24.311927          29280.0                15.7   \n",
      "4            28.095238          52785.0                26.2   \n",
      "\n",
      "   Population_density  Household_count  Building_type_ID  Building_type_GD  \\\n",
      "0               91520            65000               2.0               3.0   \n",
      "1              155511            94000               2.0               3.0   \n",
      "2               22372           520000               5.0               5.0   \n",
      "3                4414           165000               4.0               5.0   \n",
      "4               20435            39000               4.0               5.0   \n",
      "\n",
      "   Grid_supply_reliability  Road_accessibility  Safety  Solar_panel_usage  \\\n",
      "0                      3.0                 3.0     4.0           0.000000   \n",
      "1                      3.0                 3.0     3.0           0.000000   \n",
      "2                      3.0                 2.0     3.0           1.972873   \n",
      "3                      3.0                 3.0     4.0           1.834862   \n",
      "4                      2.0                 3.0     3.0           2.380952   \n",
      "\n",
      "   Solar_panel_adoption  Emmission_Reduction  \n",
      "0             70.068027             24530000  \n",
      "1             53.545232             49904000  \n",
      "2             92.031250            669307000  \n",
      "3             61.904762            339664000  \n",
      "4             92.105263            165208000  \n"
     ]
    }
   ],
   "source": [
    "# Merge with model_df\n",
    "\n",
    "model_df = model_df.merge(fuel_consumed_df, on='Local Government Area', how='outer')\n",
    "print(model_df.head())"
   ]
  },
  {
   "cell_type": "code",
   "execution_count": null,
   "id": "54834c0f-d624-400d-8bb9-c37652768d29",
   "metadata": {},
   "outputs": [],
   "source": []
  },
  {
   "cell_type": "code",
   "execution_count": null,
   "id": "3a60c091-9ade-402a-9fb4-1c4c287a2045",
   "metadata": {},
   "outputs": [],
   "source": []
  },
  {
   "cell_type": "code",
   "execution_count": null,
   "id": "f8d9d70f-2926-4cb4-b89f-3bebdd76bccc",
   "metadata": {},
   "outputs": [],
   "source": []
  },
  {
   "cell_type": "code",
   "execution_count": 80,
   "id": "0d81c6f2-5888-47c9-a3d3-b0adad24eed0",
   "metadata": {},
   "outputs": [],
   "source": [
    "model_df.to_csv(\"datasets/DPV_Model.csv\", index=False)"
   ]
  },
  {
   "cell_type": "code",
   "execution_count": null,
   "id": "2db74e04-7385-4302-9c16-66319790fe22",
   "metadata": {},
   "outputs": [],
   "source": []
  },
  {
   "cell_type": "code",
   "execution_count": null,
   "id": "0224a809-5600-4a45-aba2-bf459d4d09a8",
   "metadata": {},
   "outputs": [],
   "source": []
  },
  {
   "cell_type": "code",
   "execution_count": null,
   "id": "8c4366d8-94cf-4bad-a04b-c15e49516192",
   "metadata": {},
   "outputs": [],
   "source": []
  },
  {
   "cell_type": "code",
   "execution_count": null,
   "id": "477f498b-6239-4f75-b492-9d9305b18fcb",
   "metadata": {},
   "outputs": [],
   "source": []
  },
  {
   "cell_type": "code",
   "execution_count": null,
   "id": "72b548f0-82ba-4fa0-a08f-4aff74136c14",
   "metadata": {},
   "outputs": [],
   "source": []
  },
  {
   "cell_type": "code",
   "execution_count": null,
   "id": "9995e0d6-5aa4-436d-bef9-adf94a584abc",
   "metadata": {},
   "outputs": [],
   "source": []
  },
  {
   "cell_type": "code",
   "execution_count": null,
   "id": "ea735636-936a-43b1-96e8-b2d2877abb6f",
   "metadata": {},
   "outputs": [],
   "source": []
  },
  {
   "cell_type": "code",
   "execution_count": null,
   "id": "c87aee65-8f8f-47d1-93e8-cb0fdb9ba664",
   "metadata": {},
   "outputs": [],
   "source": []
  },
  {
   "cell_type": "code",
   "execution_count": null,
   "id": "23979ee7-c515-4f2b-9269-e06f59605003",
   "metadata": {},
   "outputs": [],
   "source": []
  },
  {
   "cell_type": "code",
   "execution_count": null,
   "id": "77b2432c-4838-4abc-bbf5-2ac9bda13c3b",
   "metadata": {},
   "outputs": [],
   "source": []
  },
  {
   "cell_type": "code",
   "execution_count": null,
   "id": "1da40a58-d6c8-4ee9-a651-dcb1c41e9758",
   "metadata": {},
   "outputs": [],
   "source": []
  },
  {
   "cell_type": "code",
   "execution_count": null,
   "id": "6be2941a-82c7-4e3e-80ce-01c53ed1e594",
   "metadata": {},
   "outputs": [],
   "source": []
  }
 ],
 "metadata": {
  "kernelspec": {
   "display_name": "Python 3 (ipykernel)",
   "language": "python",
   "name": "python3"
  },
  "language_info": {
   "codemirror_mode": {
    "name": "ipython",
    "version": 3
   },
   "file_extension": ".py",
   "mimetype": "text/x-python",
   "name": "python",
   "nbconvert_exporter": "python",
   "pygments_lexer": "ipython3",
   "version": "3.11.7"
  }
 },
 "nbformat": 4,
 "nbformat_minor": 5
}
